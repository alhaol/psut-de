{
  "cells": [
    {
      "cell_type": "markdown",
      "source": [
        "<center><img src=\"https://drive.google.com/uc?export=view&id=1f0tvL6DLzfOQ_xHNdaBe_6fDUd27lc6U\" alt=\"PSUT\"  width=\"180px\"> \n",
        "<p> \n",
        "King Hussein School for Computing Sciences <br>\n",
        "Department of Data Science <br>\n",
        "Data Engineering Lab <br>\n",
        "Python Review, Jupyter Notebook, & Google Colab \n",
        "</p></center>"
      ],
      "metadata": {
        "id": "2YJoYHCrkts-"
      }
    },
    {
      "cell_type": "markdown",
      "source": [
        "  [![Open In Colab](https://colab.research.google.com/assets/colab-badge.svg)](https://colab.research.google.com/github.com/alhaol/psut-de/blob/main/reviews/Lecture_1_PythonReview.ipynb)"
      ],
      "metadata": {
        "id": "ghdt2qfyskgg"
      }
    },
    {
      "cell_type": "markdown",
      "source": [
        "<h1> Install Anaconda </h1>\n",
        "<h4> System requirements </h4>\n",
        "<ul>\n",
        "<li>License: Free use and redistribution under the terms of the End User License Agreement - Anaconda® Individual Edition. </li>\n",
        "<li>Operating system: Windows 8 or newer, 64-bit macOS 10.13+, or Linux, including Ubuntu, RedHat, CentOS 6+, and others.</li>\n",
        "<li>If your operating system is older than what is currently supported, you can find older versions of the Anaconda installers in our archive that might work for you. See Using Anaconda on older operating systems for version recommendations.</li>\n",
        "<li>System architecture: Windows- 64-bit x86, 32-bit x86; MacOS- 64-bit x86; Linux- 64-bit x86, 64-bit Power8/Power9.</li>\n",
        "<li>Minimum 5 GB disk space to download and install.</li>\n",
        "</ul>\n",
        "\n",
        "<h4> Installation Instructions:</h4>\n",
        "<ul>\n",
        "<li><a href = \"https://docs.anaconda.com/anaconda/install/windows/\"> Installing on Windows</a> </li>\n",
        "<li><a href = \"https://docs.anaconda.com/anaconda/install/mac-os/\"> Installing on macOS</a></li>\n",
        "<li><a href = \"https://docs.anaconda.com/anaconda/install/linux/\"> Installing on Linux</a></li>\n",
        "</ul>"
      ],
      "metadata": {
        "id": "6eM9whQLlKz-"
      }
    },
    {
      "cell_type": "markdown",
      "source": [
        "<h1> Loading and saving data from external sources - Google Colab </h1>\n",
        "<h4> Uploading files from your local file system</h4>\n",
        "\n",
        "``````\n",
        "from google.colab import files\n",
        "uploaded = files.upload()\n",
        "``````\n",
        "\n",
        "<h4> Downloading files to your local file system</h4>\n",
        "\n",
        "``````\n",
        "from google.colab import files\n",
        "with open('example.txt', 'w') as f:\n",
        "  f.write('some content')\n",
        "files.download('example.txt')\n",
        "``````\n",
        "\n",
        "<h4> Google Drive</h4>\n",
        "You can access files in Drive in a number of ways, including:\n",
        "<ul>\n",
        "<li> Mounting your Google Drive in the runtime's virtual machine <br>\n",
        "The example below shows how to mount your Google Drive on your runtime using an authorization code, and how to write and read files there. Once executed, you will be able to see the new file (foo.txt) at https://drive.google.com/.\n",
        "\n",
        "This only supports reading, writing, and moving files; to programmatically modify sharing settings or other metadata, use one of the other options below.\n",
        "\n",
        "Note: When using the 'Mount Drive' button in the file browser, no authentication codes are necessary for notebooks that have only been edited by the current user.\n",
        "\n",
        "`````\n",
        "from google.colab import drive\n",
        "drive.mount('/content/drive')\n",
        "with open('/content/drive/My Drive/foo.txt', 'w') as f:\n",
        "  f.write('Hello Google Drive!')\n",
        "!cat /content/drive/My\\ Drive/foo.txt\n",
        "drive.flush_and_unmount()\n",
        "print('All changes made in this colab session should now be visible in Drive.')\n",
        "`````\n",
        "\n",
        "</li>\n",
        "<li> Using the <a here=\"https://developers.google.com/drive/api/v3/about-sdk\">native REST API</a></li>\n",
        "</ul>\n",
        "\n",
        "<h5> For More Information check this <a href=\"https://colab.research.google.com/notebooks/io.ipynb#scrollTo=D78AM1fFt2ty\" > Ref </a></h5>\n"
      ],
      "metadata": {
        "id": "E2CR_uNfmvvH"
      }
    },
    {
      "cell_type": "markdown",
      "source": [
        "<h1> Why Python?!</h1>\n",
        "<ol>\n",
        "<li> <b>Easy to Learn and Use.</b> It has simplified syntax and not complicated, which gives more emphasis on natural language.  </li>\n",
        "<li> <b>Mature and Supportive Python Community.</b>  There are plenty of documentation, guides and Video Tutorials for Python language are available that learner and developer of any skill level or ages can use and receive the support required to enhance their knowledge in python programming language.  </li>\n",
        "<li> <b>Support from Renowned Corporate Sponsors.</b> Python Programming language is heavily backed by Facebook, Amazon Web Services, and especially Google.  </li>\n",
        "<li> <b>Hundreds of Python Libraries and Frameworks.</b> Python has excellent libraries that you can use to select and save your time and effort on the initial cycle of development. </li>\n",
        "<li> <b>Versatility, Efficiency, Reliability, and Speed.</b> Python can be used in nearly any kind of environment, and one will not face any kind of performance loss issue irrespective of the platform one is working. </li>\n",
        "<li> <b>Big data, Machine Learning and Cloud Computing.</b> Cloud Computing, Machine Learning, and Big Data are some of the hottest trends in the computer science world right now. Python language is one of the most popular used tool for data science and analytics.  </li>\n",
        "<li> <b>The Flexibility of Python Language.</b> The python language is so flexible that it gives the developer the chance to try something new. The person who is an expert in python language is not just limited to build similar kinds of things but can also go on to try to make something different than before. </li>\n",
        "\n",
        "</ol>"
      ],
      "metadata": {
        "id": "jZNV96hiE4ly"
      }
    },
    {
      "cell_type": "markdown",
      "source": [
        "\n",
        "<h1> Python Basic operations </h1>"
      ],
      "metadata": {
        "id": "-IeIrGRtxE8H"
      }
    },
    {
      "cell_type": "markdown",
      "source": [
        "**The answer is so and so**"
      ],
      "metadata": {
        "id": "qJFT6taIt4XK"
      }
    },
    {
      "cell_type": "markdown",
      "source": [
        "<h2> Simple Python math <h2> \n",
        "  <p> Python supports all of the math operations that you would expect. The basic ones are addition, subtraction, multiplication, and division. Other ones include the exponentiation and modulo operators.</p>"
      ],
      "metadata": {
        "id": "22HhbbsdlQbs"
      }
    },
    {
      "cell_type": "code",
      "source": [
        "# Addition, add two int together\n",
        "1+1"
      ],
      "outputs": [],
      "execution_count": null,
      "metadata": {
        "id": "X2zmlUVplQbu",
        "scrolled": true
      }
    },
    {
      "cell_type": "code",
      "source": [
        "# if one of the operands is a float, the result is a float.\n",
        "5.0*6"
      ],
      "outputs": [],
      "execution_count": null,
      "metadata": {
        "id": "U5NDcOa-lQbx"
      }
    },
    {
      "cell_type": "code",
      "source": [
        "5*6"
      ],
      "outputs": [],
      "execution_count": null,
      "metadata": {
        "id": "PTLOfGtKD3Bp"
      }
    },
    {
      "cell_type": "code",
      "source": [
        "# integer division\n",
        "200/5"
      ],
      "outputs": [],
      "execution_count": null,
      "metadata": {
        "id": "fUreb6skEAbI"
      }
    },
    {
      "cell_type": "code",
      "source": [
        "# Exponentiation ** \n",
        "# This operator raises the number to its left to the power of the number to its right \n",
        "2**3"
      ],
      "outputs": [],
      "execution_count": null,
      "metadata": {
        "id": "ybM1albdEHsY"
      }
    },
    {
      "cell_type": "code",
      "source": [
        "# Modulo\n",
        "# Returns the remainder of the division of the number to the left by the \n",
        "# number on its right. \n",
        "9%3"
      ],
      "outputs": [],
      "execution_count": null,
      "metadata": {
        "id": "dffzzNNtELK6"
      }
    },
    {
      "cell_type": "code",
      "source": [
        "# Define variable\n",
        "x = 2 \n",
        "y = 3\n",
        "# output statment \n",
        "print(\"x= \", x)\n",
        "print(\"y= \", y)\n",
        "x+y"
      ],
      "outputs": [],
      "execution_count": null,
      "metadata": {
        "id": "X6W8zKSVlQb1"
      }
    },
    {
      "cell_type": "markdown",
      "source": [
        "<h2> Using pre-defined math functions </h2>\n",
        "<p> <b>math package</b> provides access to the mathematical functions defined by the C standard.</p>\n",
        "<p>For more detials, check this <a href=\"https://docs.python.org/3/library/math.html\" >Ref</a></p>"
      ],
      "metadata": {
        "id": "otwCIRiGITFt"
      }
    },
    {
      "cell_type": "code",
      "source": [
        "import math\n"
      ],
      "outputs": [],
      "execution_count": null,
      "metadata": {
        "id": "mGbDgeP7vXzl"
      }
    },
    {
      "cell_type": "code",
      "source": [],
      "outputs": [],
      "execution_count": null,
      "metadata": {
        "id": "Cmg2fp9XvXpI"
      }
    },
    {
      "cell_type": "code",
      "source": [
        "# importing math\n",
        "from math import *\n",
        "x=1;y=2\n",
        "# Using some math functions\n",
        "print(sin(x))\n",
        "print(sqrt(y+6))\n",
        "print(cos(x))"
      ],
      "outputs": [
        {
          "output_type": "stream",
          "name": "stdout",
          "text": [
            "0.8414709848078965\n",
            "2.8284271247461903\n",
            "0.5403023058681398\n"
          ]
        }
      ],
      "execution_count": null,
      "metadata": {
        "id": "BT1jKdJelQb4",
        "executionInfo": {
          "status": "ok",
          "timestamp": 1603193170050,
          "user_tz": -180,
          "elapsed": 1359,
          "user": {
            "displayName": "Ibrahim Abu Alhaol",
            "photoUrl": "https://lh3.googleusercontent.com/a-/AOh14GjRvrebxMDZgnHVVgf2jggVAk9E6ufnpjzPPcXJ=s64",
            "userId": "00373072729262931595"
          }
        },
        "outputId": "ed6e2753-2b28-4cbf-b0f3-a523f3ab0846",
        "colab": {
          "base_uri": "https://localhost:8080/",
          "height": 68
        }
      }
    },
    {
      "cell_type": "markdown",
      "source": [
        "<h2> Numpy Array Basics </h2>\n",
        "<p> <b>NumPy package</b> (Numerical Python) is an open source Python library that’s used in almost every field of science and engineering. NumPy gives you an enormous range of fast and efficient ways of creating arrays and manipulating numerical data inside them.  </p>\n",
        "\n",
        "<h4> Why use NumPy?</h4>\n",
        "NumPy arrays are faster and more compact than Python lists. An array consumes less memory and is convenient to use. NumPy uses much less memory to store data and it provides a mechanism of specifying the data types. This allows the code to be optimized even further.\n",
        "\n",
        "<h4> What is an array?</h4>\n",
        "An array is a central data structure of the NumPy library. An array is a grid of values and it contains information about the raw data, how to locate an element, and how to interpret an element. It has a grid of elements that can be indexed in various ways. The elements are all of the same type, referred to as the array dtype.\n",
        "\n",
        "<img src = \"https://numpy.org/devdocs/_images/np_array.png\">\n",
        "\n",
        "<h4> How to create a basic array?</h4>\n",
        "Different functions can be used to define an array:  np.array(), np.zeros(), np.ones(), np.empty(), np.arange(), and np.linspace().\n",
        "<ul>\n",
        "<li> np.array()-> to create an array using a list.</li>\n",
        "<li>np.zeros()-> to create an array filled with 0’s. </li>\n",
        "<li>np.ones()-> to create an array filled with 1’s. </li>\n",
        "<li> np.empty()-> to create an array whose initial content is random and depends on the state of the memory.</li> \n",
        "<li>np.arange()-> to create an array with a range of elements. </li>\n",
        "<li>np.linspace()-> to create an array with values that are spaced linearly in a specified interval. </li>\n",
        "</ul>\n",
        "\n",
        "Using Numpy you are able to create nD-arrays. Such array is called also a Matrix. For example, this is an 2D-array \n",
        "\n",
        "`````\n",
        "data = np.array([[1, 2], [3, 4]])\n",
        "`````\n",
        "\n",
        "<img src = \"https://numpy.org/devdocs/_images/np_create_matrix.png\">\n",
        "\n",
        "<p> For more details, check this <a href=\"https://numpy.org/devdocs/user/absolute_beginners.html\">Ref</a></p>"
      ],
      "metadata": {
        "id": "G1fuZETFlQb7"
      }
    },
    {
      "cell_type": "code",
      "source": [
        "# Defining 2D array of ones\n",
        "my2DArrayO = np.ones((3))\n",
        "print(\"2D array of ones\\n\",my2DArrayO)"
      ],
      "outputs": [
        {
          "output_type": "stream",
          "name": "stdout",
          "text": [
            "2D array of ones\n",
            " [1. 1. 1.]\n"
          ]
        }
      ],
      "execution_count": null,
      "metadata": {
        "id": "OtGQefPlwwdL",
        "executionInfo": {
          "status": "ok",
          "timestamp": 1603193405648,
          "user_tz": -180,
          "elapsed": 2252,
          "user": {
            "displayName": "Ibrahim Abu Alhaol",
            "photoUrl": "https://lh3.googleusercontent.com/a-/AOh14GjRvrebxMDZgnHVVgf2jggVAk9E6ufnpjzPPcXJ=s64",
            "userId": "00373072729262931595"
          }
        },
        "outputId": "f9da7587-634f-4fef-f7af-db26ce7f693f",
        "colab": {
          "base_uri": "https://localhost:8080/",
          "height": 51
        }
      }
    },
    {
      "cell_type": "code",
      "source": [],
      "outputs": [],
      "execution_count": null,
      "metadata": {
        "id": "GgSlLy3hwwuw"
      }
    },
    {
      "cell_type": "code",
      "source": [
        "# importing numpy\n",
        "import numpy as np\n",
        "\n",
        "# Defining 1D array\n",
        "my1DArray = np.array([1, 8, 27, 64])\n",
        "print(\"1D array\\n\",my1DArray)\n",
        "\n",
        "# Defining 1D array of zeros\n",
        "my1DArrayZ = np.zeros(5)\n",
        "print(\"1D array of zeors\\n\",my1DArrayZ)\n",
        "\n",
        "# Defining 2D array of ones\n",
        "my2DArrayO = np.ones((3))\n",
        "print(\"2D array of ones\\n\",my2DArrayO)\n",
        "\n",
        "# Empty array\n",
        "emptyArray = np.empty((3,2))\n",
        "print(\"Empty array \\n\",emptyArray)\n",
        "\n",
        "# Array of evenly-spaced values\n",
        "### evenly-spaced value can be made given a starting point, a stopping point, and a number of elements.\n",
        "evenSpacedArray = np.linspace(0, 1, 6)\n",
        "print(\"Array of evenly-spaced 6 values between 0 and 1 \\n\",evenSpacedArray)\n",
        "\n",
        "# Array of evenly-spaced values\n",
        "### evenly-spaced value can be made given a starting point, a stopping point, and a step.\n",
        "evenSpacedArray = np.arange(10,25,5)\n",
        "print(\"Array of evenly-spaced values between [10-25] and a step = 5 \\n\",evenSpacedArray)\n",
        "\n",
        "\n"
      ],
      "outputs": [
        {
          "output_type": "stream",
          "name": "stdout",
          "text": [
            "1D array\n",
            " [ 1  8 27 64]\n",
            "1D array of zeors\n",
            " [0. 0. 0. 0. 0.]\n",
            "2D array of ones\n",
            " [1. 1. 1.]\n",
            "Empty array \n",
            " [[0. 0.]\n",
            " [0. 0.]\n",
            " [0. 0.]]\n",
            "Array of evenly-spaced 6 values between 0 and 1 \n",
            " [0.  0.2 0.4 0.6 0.8 1. ]\n",
            "Array of evenly-spaced values between [10-25] and a step = 5 \n",
            " [10 15 20]\n"
          ]
        }
      ],
      "execution_count": null,
      "metadata": {
        "id": "FaHO2WQ_lQb7",
        "executionInfo": {
          "status": "ok",
          "timestamp": 1603193334722,
          "user_tz": -180,
          "elapsed": 1583,
          "user": {
            "displayName": "Ibrahim Abu Alhaol",
            "photoUrl": "https://lh3.googleusercontent.com/a-/AOh14GjRvrebxMDZgnHVVgf2jggVAk9E6ufnpjzPPcXJ=s64",
            "userId": "00373072729262931595"
          }
        },
        "outputId": "36b5c26f-a437-48c3-c4ec-df8b4a05d578",
        "colab": {
          "base_uri": "https://localhost:8080/",
          "height": 255
        }
      }
    },
    {
      "cell_type": "code",
      "source": [
        "# Defining and printing 2D array\n",
        "my2DArray = np.array([[1, 2, 3, 4], [2, 4, 9, 16], [4, 8, 18, 32]])\n",
        "print(\"2D array\\n\",my2DArray)\n",
        "\n",
        "# Defining 2D array of ones\n",
        "my2DArrayO = np.ones((3,3))\n",
        "print(\"2D array of ones\\n\",my2DArrayO)\n",
        "\n",
        "#Defining and printing 3D array\n",
        "my3Darray = np.array([[[ 1, 2 , 3 , 4],[ 5 , 6 , 7  ,8]], [[ 1,  2,  3,  4],[ 9, 10, 11, 12]]])\n",
        "print(\"3D array\\n\",my3Darray)\n",
        "\n",
        "# Array with random values\n",
        "randArr = np.random.random((2,2))\n",
        "print(\"Random Array \\n\", randArr)"
      ],
      "outputs": [
        {
          "output_type": "stream",
          "name": "stdout",
          "text": [
            "2D array\n",
            " [[ 1  2  3  4]\n",
            " [ 2  4  9 16]\n",
            " [ 4  8 18 32]]\n",
            "2D array of ones\n",
            " [[1. 1. 1.]\n",
            " [1. 1. 1.]\n",
            " [1. 1. 1.]]\n",
            "3D array\n",
            " [[[ 1  2  3  4]\n",
            "  [ 5  6  7  8]]\n",
            "\n",
            " [[ 1  2  3  4]\n",
            "  [ 9 10 11 12]]]\n",
            "Random Array \n",
            " [[0.90958314 0.91417577]\n",
            " [0.0246375  0.3997506 ]]\n"
          ]
        }
      ],
      "execution_count": null,
      "metadata": {
        "id": "llLDbrh_NYte",
        "executionInfo": {
          "status": "ok",
          "timestamp": 1603193599853,
          "user_tz": -180,
          "elapsed": 1343,
          "user": {
            "displayName": "Ibrahim Abu Alhaol",
            "photoUrl": "https://lh3.googleusercontent.com/a-/AOh14GjRvrebxMDZgnHVVgf2jggVAk9E6ufnpjzPPcXJ=s64",
            "userId": "00373072729262931595"
          }
        },
        "outputId": "2b91a7fa-2fbd-4e3b-befd-659c874e8c37",
        "colab": {
          "base_uri": "https://localhost:8080/",
          "height": 306
        }
      }
    },
    {
      "cell_type": "code",
      "source": [
        "# Print out memory address\n",
        "print(my2DArray.data)\n",
        "\n",
        "# Print the shape of array\n",
        "print(my2DArray.shape)\n",
        "\n",
        "# Print out the data type of the array\n",
        "print(my2DArray.dtype)\n",
        "\n",
        "# Print the number of `my2DArray`'s dimensions\n",
        "print(my2DArray.ndim)\n",
        "\n",
        "# Print the number of `my2DArray`'s elements\n",
        "print(my2DArray.size)"
      ],
      "outputs": [
        {
          "output_type": "stream",
          "name": "stdout",
          "text": [
            "<memory at 0x7f489bbca480>\n",
            "(3, 4)\n",
            "int64\n",
            "2\n",
            "12\n"
          ]
        }
      ],
      "execution_count": null,
      "metadata": {
        "id": "SULEWj9BlQb-",
        "executionInfo": {
          "status": "ok",
          "timestamp": 1603193604580,
          "user_tz": -180,
          "elapsed": 1760,
          "user": {
            "displayName": "Ibrahim Abu Alhaol",
            "photoUrl": "https://lh3.googleusercontent.com/a-/AOh14GjRvrebxMDZgnHVVgf2jggVAk9E6ufnpjzPPcXJ=s64",
            "userId": "00373072729262931595"
          }
        },
        "outputId": "e41c042a-a1bd-47ae-8651-16b2913e0959",
        "colab": {
          "base_uri": "https://localhost:8080/",
          "height": 102
        }
      }
    },
    {
      "cell_type": "markdown",
      "source": [
        "<h3> Broadcasting in NumPy </h3>\n",
        "<p>There are times when you might want to carry out an operation between an array and a single number (also called an operation between a vector and a scalar) or between arrays of two different sizes. </p>\n",
        "\n",
        "`````\n",
        "data = np.array([1.0, 2.0])\n",
        "data * 1.6\n",
        "array([1.6, 3.2])\n",
        "`````\n",
        "<img src = \"https://numpy.org/devdocs/_images/np_multiply_broadcasting.png\">\n",
        "\n",
        "\n",
        "`````\n",
        "a = array([[ 0.0,  0.0,  0.0],\n",
        "            [10.0, 10.0, 10.0],\n",
        "            [20.0, 20.0, 20.0],\n",
        "            [30.0, 30.0, 30.0]])\n",
        "b = array([1.0, 2.0, 3.0])\n",
        "a + b\n",
        "`````\n",
        "\n",
        "<img src = \"https://numpy.org/devdocs/_images/theory.broadcast_2.gif\">\n",
        "\n",
        "When the <u>trailing dimensions of the arrays are unequal</u>, broadcasting <b>FAILS</b> because it is impossible to align the values in the rows of the 1st array with the elements of the 2nd arrays for element-by-element addition.\n",
        "\n",
        "<img src = \"https://numpy.org/devdocs/_images/theory.broadcast_3.gif\">\n",
        "\n",
        "<b>Broadcasting</b> is a mechanism that allows NumPy to perform operations on arrays of different shapes. <br>\n",
        "\n",
        "<b>Broadcasting two arrays together follow these rules:</b> <br>\n",
        "Rule 1: Two dimensions are operatable if they are equal <br>\n",
        "Rule 2: Two dimensions are also comptable when one of them is 1 <br>\n",
        "Rule 3: Arrays can be broadcasted together if they are compatible in all dimensions <br>\n",
        "\n",
        "\n",
        "For more details, check this <a href=\"https://numpy.org/devdocs/user/theory.broadcasting.html\" >Ref</a>"
      ],
      "metadata": {
        "id": "fyK3CGsOlQcB"
      }
    },
    {
      "cell_type": "code",
      "source": [
        "# Create an array of two dimension\n",
        "import numpy as np\n",
        "A =np.ones((2,3))\n",
        "B = np.random.random((2,3))"
      ],
      "outputs": [],
      "execution_count": null,
      "metadata": {
        "id": "0M_1LqmRyyCV"
      }
    },
    {
      "cell_type": "code",
      "source": [
        "y = np.arange(10)\n",
        "y"
      ],
      "outputs": [
        {
          "output_type": "execute_result",
          "execution_count": 41,
          "data": {
            "text/plain": "array([0, 1, 2, 3, 4, 5, 6, 7, 8, 9])"
          },
          "metadata": {
            "tags": []
          }
        }
      ],
      "execution_count": null,
      "metadata": {
        "id": "0cxutAZsyx0d",
        "executionInfo": {
          "status": "ok",
          "timestamp": 1603193850525,
          "user_tz": -180,
          "elapsed": 1867,
          "user": {
            "displayName": "Ibrahim Abu Alhaol",
            "photoUrl": "https://lh3.googleusercontent.com/a-/AOh14GjRvrebxMDZgnHVVgf2jggVAk9E6ufnpjzPPcXJ=s64",
            "userId": "00373072729262931595"
          }
        },
        "outputId": "47f02046-a44a-4747-ec81-cf5b7e0ce08a",
        "colab": {
          "base_uri": "https://localhost:8080/",
          "height": 34
        }
      }
    },
    {
      "cell_type": "code",
      "source": [
        "y.reshape((2,5)).reshape(5,2)"
      ],
      "outputs": [
        {
          "output_type": "execute_result",
          "execution_count": 44,
          "data": {
            "text/plain": "array([[0, 1],\n       [2, 3],\n       [4, 5],\n       [6, 7],\n       [8, 9]])"
          },
          "metadata": {
            "tags": []
          }
        }
      ],
      "execution_count": null,
      "metadata": {
        "id": "IdmDXLqSzNkJ",
        "executionInfo": {
          "status": "ok",
          "timestamp": 1603194252843,
          "user_tz": -180,
          "elapsed": 2065,
          "user": {
            "displayName": "Ibrahim Abu Alhaol",
            "photoUrl": "https://lh3.googleusercontent.com/a-/AOh14GjRvrebxMDZgnHVVgf2jggVAk9E6ufnpjzPPcXJ=s64",
            "userId": "00373072729262931595"
          }
        },
        "outputId": "47b0ea1e-5b61-4c2c-ffef-871d9d3310e3",
        "colab": {
          "base_uri": "https://localhost:8080/",
          "height": 102
        }
      }
    },
    {
      "cell_type": "code",
      "source": [
        "# Create an array of two dimension\n",
        "import numpy as np\n",
        "A =np.ones((2,3))\n",
        "B = np.random.random((2,3))\n",
        "\n",
        "# Shape of A\n",
        "print(\"A Shape\" , A.shape)\n",
        "print(\"B Shape\" ,B.shape)\n",
        "\n",
        "print(\"A \\n\",A)\n",
        "print(\"B \\n\",B)\n",
        "\n",
        "# Sum of A and B, here the shape of both the matrix is same.\n",
        "print(\"A+B \\n\", A + B)"
      ],
      "outputs": [],
      "execution_count": null,
      "metadata": {
        "id": "PzgImm0SlQcC"
      }
    },
    {
      "cell_type": "code",
      "source": [
        "# Initialize `x`\n",
        "x = np.ones((3,4))\n",
        "print(\"x \\n\",x)\n",
        "\n",
        "# Check shape of `x`\n",
        "print(\"x shape \\n\",x.shape)\n",
        "\n",
        "# Initialize `y`\n",
        "y = np.arange(4)\n",
        "print(\"y \\n\",y)\n",
        "\n",
        "# Check shape of `y`\n",
        "print(\"y shape \\n\",y.shape)\n",
        "\n",
        "# Subtract `x` and `y`\n",
        "x - y "
      ],
      "outputs": [
        {
          "output_type": "stream",
          "name": "stdout",
          "text": [
            "x \n",
            " [[1. 1. 1. 1.]\n",
            " [1. 1. 1. 1.]\n",
            " [1. 1. 1. 1.]]\n",
            "x shape \n",
            " (3, 4)\n",
            "y \n",
            " [0 1 2 3]\n",
            "y shape \n",
            " (4,)\n"
          ]
        },
        {
          "output_type": "execute_result",
          "execution_count": 45,
          "data": {
            "text/plain": "array([[ 1.,  0., -1., -2.],\n       [ 1.,  0., -1., -2.],\n       [ 1.,  0., -1., -2.]])"
          },
          "metadata": {
            "tags": []
          }
        }
      ],
      "execution_count": null,
      "metadata": {
        "id": "aENg9bv-lQcF",
        "executionInfo": {
          "status": "ok",
          "timestamp": 1603194321775,
          "user_tz": -180,
          "elapsed": 1516,
          "user": {
            "displayName": "Ibrahim Abu Alhaol",
            "photoUrl": "https://lh3.googleusercontent.com/a-/AOh14GjRvrebxMDZgnHVVgf2jggVAk9E6ufnpjzPPcXJ=s64",
            "userId": "00373072729262931595"
          }
        },
        "outputId": "d8dc667f-c8be-4ee4-97a2-9036fa8fef28",
        "colab": {
          "base_uri": "https://localhost:8080/",
          "height": 240
        }
      }
    },
    {
      "cell_type": "markdown",
      "source": [
        "<h3>Numpy and mathematics</h3>"
      ],
      "metadata": {
        "id": "L-kkUyHulQcI"
      }
    },
    {
      "cell_type": "code",
      "source": [
        "# Basica operations (+, -, *, /, %)\n",
        "x = np.array([[1, 2, 3], [2, 3, 4]])\n",
        "y = np.array([[1, 4, 9], [2, 3, -2]])\n",
        "\n",
        "# Add two array\n",
        "add = np.add(x, y)\n",
        "print(\"x+y \\n\",add)\n",
        "\n",
        "# Subtract two array\n",
        "sub = np.subtract(x, y)\n",
        "print(\"x-y \\n\",sub)\n",
        "\n",
        "# Multipley two array\n",
        "mul = np.multiply(x, y)\n",
        "print(\"x*y \\n\",mul)\n",
        "\n",
        "# Divide x, y\n",
        "div = np.divide(x,y)\n",
        "print(\"x/y \\n\",div)\n",
        "\n",
        "# Calculated the remainder of x and y\n",
        "rem = np.remainder(x, y)\n",
        "print(\"x%y \\n\",rem)"
      ],
      "outputs": [
        {
          "output_type": "stream",
          "name": "stdout",
          "text": [
            "x+y \n",
            " [[ 2  6 12]\n",
            " [ 4  6  2]]\n",
            "x-y \n",
            " [[ 0 -2 -6]\n",
            " [ 0  0  6]]\n",
            "x*y \n",
            " [[ 1  8 27]\n",
            " [ 4  9 -8]]\n",
            "x/y \n",
            " [[ 1.          0.5         0.33333333]\n",
            " [ 1.          1.         -2.        ]]\n",
            "x%y \n",
            " [[0 2 3]\n",
            " [0 0 0]]\n"
          ]
        }
      ],
      "execution_count": null,
      "metadata": {
        "id": "7rgfCKoClQcI",
        "executionInfo": {
          "status": "ok",
          "timestamp": 1603194362016,
          "user_tz": -180,
          "elapsed": 1923,
          "user": {
            "displayName": "Ibrahim Abu Alhaol",
            "photoUrl": "https://lh3.googleusercontent.com/a-/AOh14GjRvrebxMDZgnHVVgf2jggVAk9E6ufnpjzPPcXJ=s64",
            "userId": "00373072729262931595"
          }
        },
        "outputId": "cf1d8224-7778-41ef-ecbb-343e3c8fdc1b",
        "colab": {
          "base_uri": "https://localhost:8080/",
          "height": 274
        }
      }
    },
    {
      "cell_type": "markdown",
      "source": [
        "<h2> Python Dictionaries</h2>\n",
        "<p> <b>Dictionary</b> is a composite data type that is a collection of objects.</p>\n",
        "\n",
        "<h4> Defining a Dictionary</h4>\n",
        "<p>A dictionary consists of a collection of key-value pairs. Each key-value pair maps the key to its associated value. Dictionary elements are accessed via keys.</p>\n",
        "\n",
        "`````\n",
        "dict = {\n",
        "    <key1>: <value1>,\n",
        "    <key2>: <value2>,\n",
        "      .\n",
        "      .\n",
        "      .\n",
        "    <keyN>: <valueN>\n",
        "}\n",
        "\n",
        "dict[<key1>]\n",
        "`````\n",
        "\n",
        "`````\n",
        "D = {'name': 'Bob',\n",
        "     'age': 25,\n",
        "     'job': 'Dev',\n",
        "     'city': 'New York',\n",
        "     'email': 'bob@web.com'}\n",
        "`````\n",
        "\n",
        "<img src = \"https://www.learnbyexample.org/wp-content/uploads/python/Dictionary-Key-Value-Pairs-Illustration.png\">\n",
        "\n",
        "\n",
        "For more details, check this <a href=\"https://docs.python.org/3/tutorial/datastructures.html#dictionaries\">Ref</a>"
      ],
      "metadata": {
        "id": "TVViQU-IlQcL"
      }
    },
    {
      "cell_type": "code",
      "source": [],
      "outputs": [],
      "execution_count": null,
      "metadata": {
        "id": "_ZgYsf661eNY"
      }
    },
    {
      "cell_type": "code",
      "source": [
        "#Declare dictionay \n",
        "thisdict = {\n",
        "  \"brand\": \"Ford\",\n",
        "  \"model\": \"Mustang\",\n",
        "  \"year\": 1964\n",
        "}\n",
        "print(thisdict)"
      ],
      "outputs": [
        {
          "output_type": "stream",
          "name": "stdout",
          "text": [
            "{'brand': 'Ford', 'model': 'Mustang', 'year': 1964}\n"
          ]
        }
      ],
      "execution_count": null,
      "metadata": {
        "id": "pzJAvdlC1eCG",
        "executionInfo": {
          "status": "ok",
          "timestamp": 1603194450979,
          "user_tz": -180,
          "elapsed": 1862,
          "user": {
            "displayName": "Ibrahim Abu Alhaol",
            "photoUrl": "https://lh3.googleusercontent.com/a-/AOh14GjRvrebxMDZgnHVVgf2jggVAk9E6ufnpjzPPcXJ=s64",
            "userId": "00373072729262931595"
          }
        },
        "outputId": "d49ede2c-c418-4629-b0a8-093e5ce77463",
        "colab": {
          "base_uri": "https://localhost:8080/",
          "height": 34
        }
      }
    },
    {
      "cell_type": "code",
      "source": [],
      "outputs": [],
      "execution_count": null,
      "metadata": {
        "id": "QFecjvw31g9G"
      }
    },
    {
      "cell_type": "code",
      "source": [
        "#Declare dictionay \n",
        "thisdict = {\n",
        "  \"brand\": \"Ford\",\n",
        "  \"model\": \"Mustang\",\n",
        "  \"year\": 1964\n",
        "}\n",
        "print(thisdict)\n",
        "\n",
        "#Accessing Items\n",
        "print(thisdict[\"model\"])\n",
        "print(thisdict.get(\"brand\"))\n",
        "\n",
        "#Change Values\n",
        "print(\"Previous year: \",thisdict[\"year\"])\n",
        "thisdict[\"year\"] = 2018\n",
        "print(\"Current year: \",thisdict[\"year\"])\n",
        "\n",
        "#Dictionary Length\n",
        "print(\"Number of elements in dict:\",len(thisdict))\n",
        "\n",
        "#Adding Items\n",
        "thisdict[\"color\"] = \"red\"\n",
        "print(thisdict)\n",
        "\n",
        "#Copy a Dictionary\n",
        "mydict = thisdict.copy()\n",
        "print(mydict)\n",
        "\n",
        "#Removing Items\n",
        "thisdict.pop(\"model\")\n",
        "print(thisdict)\n",
        "\n",
        "del thisdict[\"year\"]\n",
        "print(thisdict)\n",
        "\n",
        "#Removing the Last Inserted Item\n",
        "thisdict.popitem()\n",
        "print(thisdict)\n",
        "\n",
        "#Empty Dictionary\n",
        "thisdict.clear()\n",
        "print(thisdict)"
      ],
      "outputs": [
        {
          "output_type": "stream",
          "name": "stdout",
          "text": [
            "{'brand': 'Ford', 'model': 'Mustang', 'year': 1964}\n",
            "Mustang\n",
            "Ford\n",
            "Previous year:  1964\n",
            "Current year:  2018\n",
            "Number of elements in dict: 3\n",
            "{'brand': 'Ford', 'model': 'Mustang', 'year': 2018, 'color': 'red'}\n",
            "{'brand': 'Ford', 'model': 'Mustang', 'year': 2018, 'color': 'red'}\n",
            "{'brand': 'Ford', 'year': 2018, 'color': 'red'}\n",
            "{'brand': 'Ford', 'color': 'red'}\n",
            "{'brand': 'Ford'}\n",
            "{}\n"
          ]
        }
      ],
      "execution_count": null,
      "metadata": {
        "id": "kv49E_FzlQcM",
        "executionInfo": {
          "status": "ok",
          "timestamp": 1603194666060,
          "user_tz": -180,
          "elapsed": 1828,
          "user": {
            "displayName": "Ibrahim Abu Alhaol",
            "photoUrl": "https://lh3.googleusercontent.com/a-/AOh14GjRvrebxMDZgnHVVgf2jggVAk9E6ufnpjzPPcXJ=s64",
            "userId": "00373072729262931595"
          }
        },
        "outputId": "36264300-fe56-4c2a-ae10-516065476a8d",
        "colab": {
          "base_uri": "https://localhost:8080/",
          "height": 223
        }
      }
    },
    {
      "cell_type": "markdown",
      "source": [
        "<h2>Data strcutre of pandas</h2>\n",
        "\n",
        "<ul><li>Series-> a one-dimensional ndarray with axis labels (including time series) that is capable of holding data of any type\n",
        "\n",
        "`````\n",
        "pandas.Series( data, index, dtype, copy)\n",
        "`````\n",
        "For more details, check <a href=\"https://pandas.pydata.org/pandas-docs/stable/reference/api/pandas.Series.html\" > Ref 1</a> and <a href=\"https://www.tutorialspoint.com/python_pandas/python_pandas_series.htm\" > Ref 2</a>\n",
        "</li>\n",
        "<li>DataFrames-> a two-dimensional, size-mutable, potentially heterogeneous tabular data. </li>\n",
        "\n",
        "<img src =\"https://media.geeksforgeeks.org/wp-content/uploads/finallpandas.png\" width=\"500px\">\n",
        "\n",
        "For example:\n",
        "\n",
        "`````\n",
        "data = {'Name':['Tom', 'nick', 'krish', 'jack'],\n",
        "        'Age':[20, 21, 19, 18]}\n",
        "df = pd.DataFrame(data)\n",
        "print(df)\n",
        "`````\n",
        "\n",
        "<img src =\"https://media.geeksforgeeks.org/wp-content/uploads/df2-1.png\" >\n",
        "\n",
        "For more details, check <a href=\"https://pandas.pydata.org/pandas-docs/stable/reference/api/pandas.DataFrame.html\" > Ref 1</a> and <a href=\"https://www.geeksforgeeks.org/python-pandas-dataframe/\" > Ref 2</a>\n",
        "</ul>"
      ],
      "metadata": {
        "id": "DfqCfLnNlQcO"
      }
    },
    {
      "cell_type": "code",
      "source": [
        "# Importing pandas\n",
        "import pandas as pd\n",
        "\n",
        "#Declear Series\n",
        "series = pd.Series([2, 3, 7, 11, 13])\n",
        "print(\"Series: \\n\", series, \"\\n\")\n"
      ],
      "outputs": [
        {
          "output_type": "stream",
          "name": "stdout",
          "text": [
            "Series: \n",
            " 0     2\n",
            "1     3\n",
            "2     7\n",
            "3    11\n",
            "4    13\n",
            "dtype: int64 \n",
            "\n"
          ]
        }
      ],
      "execution_count": null,
      "metadata": {
        "id": "xPZBYCmilQcP",
        "executionInfo": {
          "status": "ok",
          "timestamp": 1603194941987,
          "user_tz": -180,
          "elapsed": 1217,
          "user": {
            "displayName": "Ibrahim Abu Alhaol",
            "photoUrl": "https://lh3.googleusercontent.com/a-/AOh14GjRvrebxMDZgnHVVgf2jggVAk9E6ufnpjzPPcXJ=s64",
            "userId": "00373072729262931595"
          }
        },
        "outputId": "6000b5f0-9353-4459-a387-1c79aa0e6c35",
        "colab": {
          "base_uri": "https://localhost:8080/",
          "height": 154
        }
      }
    },
    {
      "cell_type": "code",
      "source": [
        "series.to_list()[-1]"
      ],
      "outputs": [
        {
          "output_type": "execute_result",
          "execution_count": 61,
          "data": {
            "text/plain": "13"
          },
          "metadata": {
            "tags": []
          }
        }
      ],
      "execution_count": null,
      "metadata": {
        "id": "wx387EZT3X_9",
        "executionInfo": {
          "status": "ok",
          "timestamp": 1603195099386,
          "user_tz": -180,
          "elapsed": 2442,
          "user": {
            "displayName": "Ibrahim Abu Alhaol",
            "photoUrl": "https://lh3.googleusercontent.com/a-/AOh14GjRvrebxMDZgnHVVgf2jggVAk9E6ufnpjzPPcXJ=s64",
            "userId": "00373072729262931595"
          }
        },
        "outputId": "4b6d79cf-cce1-4405-ce17-2234fef4d293",
        "colab": {
          "base_uri": "https://localhost:8080/",
          "height": 34
        }
      }
    },
    {
      "cell_type": "code",
      "source": [
        "# Creating dataframe from Dictionary\n",
        "dict = [{'A': 'Apple', 'B': 'Ball'},{'A': 'Aeroplane', 'B': 'Bat', 'C': 'Cat'}]\n",
        "dict_df = pd.DataFrame(dict)\n",
        "print(\"Dict: \\n\",dict,\"\\n\")\n",
        "print(\"A DF from Dict\\n\",dict_df,\"\\n\")"
      ],
      "outputs": [
        {
          "output_type": "stream",
          "name": "stdout",
          "text": [
            "Dict: \n",
            " [{'A': 'Apple', 'B': 'Ball'}, {'A': 'Aeroplane', 'B': 'Bat', 'C': 'Cat'}] \n",
            "\n",
            "A DF from Dict\n",
            "            A     B    C\n",
            "0      Apple  Ball  NaN\n",
            "1  Aeroplane   Bat  Cat \n",
            "\n"
          ]
        }
      ],
      "execution_count": null,
      "metadata": {
        "id": "HkhtLYiO4JGi",
        "executionInfo": {
          "status": "ok",
          "timestamp": 1603195150573,
          "user_tz": -180,
          "elapsed": 1685,
          "user": {
            "displayName": "Ibrahim Abu Alhaol",
            "photoUrl": "https://lh3.googleusercontent.com/a-/AOh14GjRvrebxMDZgnHVVgf2jggVAk9E6ufnpjzPPcXJ=s64",
            "userId": "00373072729262931595"
          }
        },
        "outputId": "b2d47826-65cc-4e11-a385-b8fd8a923679",
        "colab": {
          "base_uri": "https://localhost:8080/",
          "height": 154
        }
      }
    },
    {
      "cell_type": "code",
      "source": [
        "dict_df"
      ],
      "outputs": [
        {
          "output_type": "execute_result",
          "execution_count": 64,
          "data": {
            "text/html": "<div>\n<style scoped>\n    .dataframe tbody tr th:only-of-type {\n        vertical-align: middle;\n    }\n\n    .dataframe tbody tr th {\n        vertical-align: top;\n    }\n\n    .dataframe thead th {\n        text-align: right;\n    }\n</style>\n<table border=\"1\" class=\"dataframe\">\n  <thead>\n    <tr style=\"text-align: right;\">\n      <th></th>\n      <th>A</th>\n      <th>B</th>\n      <th>C</th>\n    </tr>\n  </thead>\n  <tbody>\n    <tr>\n      <th>0</th>\n      <td>Apple</td>\n      <td>Ball</td>\n      <td>NaN</td>\n    </tr>\n    <tr>\n      <th>1</th>\n      <td>Aeroplane</td>\n      <td>Bat</td>\n      <td>Cat</td>\n    </tr>\n  </tbody>\n</table>\n</div>",
            "text/plain": "           A     B    C\n0      Apple  Ball  NaN\n1  Aeroplane   Bat  Cat"
          },
          "metadata": {
            "tags": []
          }
        }
      ],
      "execution_count": null,
      "metadata": {
        "id": "PJUfLDOd4P3o",
        "executionInfo": {
          "status": "ok",
          "timestamp": 1603195187336,
          "user_tz": -180,
          "elapsed": 2086,
          "user": {
            "displayName": "Ibrahim Abu Alhaol",
            "photoUrl": "https://lh3.googleusercontent.com/a-/AOh14GjRvrebxMDZgnHVVgf2jggVAk9E6ufnpjzPPcXJ=s64",
            "userId": "00373072729262931595"
          }
        },
        "outputId": "176e65ab-04e7-45ad-d2ec-069cb6ce1a8e",
        "colab": {
          "base_uri": "https://localhost:8080/",
          "height": 110
        }
      }
    },
    {
      "cell_type": "code",
      "source": [
        "# Creating dataframe from Dictionary\n",
        "dict = [{'A': 'Apple', 'B': 'Ball'},{'A': 'Aeroplane', 'B': 'Bat', 'C': 'Cat'}]\n",
        "dict_df = pd.DataFrame(dict)\n",
        "print(\"Dict: \\n\",dict,\"\\n\")\n",
        "print(\"A DF from Dict\\n\",dict_df,\"\\n\")\n",
        "  \n",
        "# Creating dataframe from Series\n",
        "series_df = pd.DataFrame({\n",
        "    'A': range(1, 5),\n",
        "    'B': pd.Timestamp('20190526'),\n",
        "    'C': pd.Series(5, index=list(range(4)), dtype='float64'),\n",
        "    'D': np.array([3]*4, dtype='int64'),\n",
        "    'E': pd.Categorical([\"Depression\", \"Social Anxiety\", \"Bipolar Disorder\", \"Eating Disorder\"]),\n",
        "    'F': 'Mental health',\n",
        "    'G': 'is challenging'\n",
        "})\n",
        "print(\"A DF from Series\\n\",series_df,\"\\n\")\n",
        "\n",
        "# Creating a dataframe from ndarrays\n",
        "sdf = {\n",
        "    'County':['Østfold', 'Hordaland', 'Oslo', 'Hedmark', 'Oppland', 'Buskerud'],\n",
        "    'ISO-Code':[1,2,3,4,5,6],\n",
        "    'Area': [4180.69, 4917.94, 454.07, 27397.76, 25192.10, 14910.94],\n",
        "    'Administrative centre': [\"Sarpsborg\", \"Oslo\", \"City of Oslo\", \"Hamar\", \"Lillehammer\", \"Drammen\"]\n",
        "    }\n",
        "sdf = pd.DataFrame(sdf)\n",
        "print(\"A DF from ndarrays\\n\",sdf,\"\\n\")\n",
        "\n",
        "\n",
        "#Dataframe Shape\n",
        "print(\"Shape: \",sdf.shape)"
      ],
      "outputs": [],
      "execution_count": null,
      "metadata": {
        "id": "Dwm-wU-fXCPR"
      }
    },
    {
      "cell_type": "code",
      "source": [],
      "outputs": [],
      "execution_count": null,
      "metadata": {
        "id": "Yny9oYpjQemR"
      }
    }
  ],
  "metadata": {
    "colab": {
      "name": "Lecture_1_PythonReview.ipynb",
      "provenance": [],
      "collapsed_sections": []
    },
    "kernelspec": {
      "display_name": "Python 3",
      "language": "python",
      "name": "python3"
    },
    "language_info": {
      "name": "python",
      "version": "3.8.3",
      "mimetype": "text/x-python",
      "codemirror_mode": {
        "name": "ipython",
        "version": 3
      },
      "pygments_lexer": "ipython3",
      "nbconvert_exporter": "python",
      "file_extension": ".py"
    },
    "nteract": {
      "version": "0.25.1"
    }
  },
  "nbformat": 4,
  "nbformat_minor": 0
}