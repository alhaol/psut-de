{
  "cells": [
    {
      "cell_type": "markdown",
      "source": [
        "@Ibrahim AbuAlhaol       [![Open In Colab](https://colab.research.google.com/assets/colab-badge.svg)](https://colab.research.google.com/github/alhaol/psut-de/reviews/blob/main/Lecture_1_PythonReview.ipynb)"
      ],
      "metadata": {}
    },
    {
      "cell_type": "markdown",
      "source": [
        "Credit : [LINK](http://www.python-ds.com)"
      ],
      "metadata": {}
    },
    {
      "cell_type": "markdown",
      "source": [
        "Create Colab Link http://colab.research.google.com/github"
      ],
      "metadata": {
        "jupyter": {
          "source_hidden": true
        }
      }
    },
    {
      "cell_type": "markdown",
      "source": [
        "------"
      ],
      "metadata": {}
    },
    {
      "cell_type": "markdown",
      "source": [
        "# Read Structured Data"
      ],
      "metadata": {}
    },
    {
      "cell_type": "markdown",
      "source": [
        "Reading data from CSV(comma separated values) is a fundamental necessity in Data Science"
      ],
      "metadata": {}
    },
    {
      "cell_type": "code",
      "source": [
        "import numpy as np\n",
        "import pandas as pd"
      ],
      "outputs": [],
      "execution_count": 8,
      "metadata": {}
    },
    {
      "cell_type": "markdown",
      "source": [
        "## Read CSV using UR"
      ],
      "metadata": {}
    },
    {
      "cell_type": "code",
      "source": [
        "URL='https://raw.githubusercontent.com/alhaol/psut-de/main/data/sampleset.csv'\n",
        "DF=pd.read_csv(URL)\n",
        "DF"
      ],
      "outputs": [
        {
          "output_type": "execute_result",
          "execution_count": 15,
          "data": {
            "text/html": "<div>\n<style scoped>\n    .dataframe tbody tr th:only-of-type {\n        vertical-align: middle;\n    }\n\n    .dataframe tbody tr th {\n        vertical-align: top;\n    }\n\n    .dataframe thead th {\n        text-align: right;\n    }\n</style>\n<table border=\"1\" class=\"dataframe\">\n  <thead>\n    <tr style=\"text-align: right;\">\n      <th></th>\n      <th>id</th>\n      <th>emp_name</th>\n      <th>emp_salary</th>\n      <th>start_date</th>\n      <th>dept</th>\n    </tr>\n  </thead>\n  <tbody>\n    <tr>\n      <th>0</th>\n      <td>1</td>\n      <td>Vishavjeet</td>\n      <td>999.30</td>\n      <td>2018-12-04</td>\n      <td>IT</td>\n    </tr>\n    <tr>\n      <th>1</th>\n      <td>2</td>\n      <td>Nimesh</td>\n      <td>878.40</td>\n      <td>2017-09-24</td>\n      <td>IT</td>\n    </tr>\n    <tr>\n      <th>2</th>\n      <td>3</td>\n      <td>Sara</td>\n      <td>611.00</td>\n      <td>2014-11-15</td>\n      <td>HR</td>\n    </tr>\n    <tr>\n      <th>3</th>\n      <td>4</td>\n      <td>Gulfam</td>\n      <td>729.00</td>\n      <td>2014-05-11</td>\n      <td>IT</td>\n    </tr>\n    <tr>\n      <th>4</th>\n      <td>5</td>\n      <td>Jack</td>\n      <td>845.25</td>\n      <td>2016-07-27</td>\n      <td>Finance</td>\n    </tr>\n    <tr>\n      <th>5</th>\n      <td>6</td>\n      <td>Jessica</td>\n      <td>878.00</td>\n      <td>2014-05-21</td>\n      <td>Marketing</td>\n    </tr>\n    <tr>\n      <th>6</th>\n      <td>7</td>\n      <td>Saurav</td>\n      <td>632.80</td>\n      <td>2018-07-30</td>\n      <td>Operations</td>\n    </tr>\n    <tr>\n      <th>7</th>\n      <td>8</td>\n      <td>Sachin</td>\n      <td>722.50</td>\n      <td>2017-06-17</td>\n      <td>SEO</td>\n    </tr>\n  </tbody>\n</table>\n</div>",
            "text/plain": "   id      emp_name     emp_salary            start_date          dept\n0   1    Vishavjeet         999.30            2018-12-04            IT\n1   2        Nimesh         878.40            2017-09-24            IT\n2   3          Sara         611.00            2014-11-15            HR\n3   4        Gulfam         729.00            2014-05-11            IT\n4   5          Jack         845.25            2016-07-27       Finance\n5   6       Jessica         878.00            2014-05-21     Marketing\n6   7        Saurav         632.80            2018-07-30    Operations\n7   8        Sachin         722.50            2017-06-17           SEO"
          },
          "metadata": {}
        }
      ],
      "execution_count": 15,
      "metadata": {}
    },
    {
      "cell_type": "markdown",
      "source": [
        "## Save DataFrame to csv "
      ],
      "metadata": {}
    },
    {
      "cell_type": "code",
      "source": [
        "DF.to_csv('data/sampleset1.csv',index=False)"
      ],
      "outputs": [],
      "execution_count": 16,
      "metadata": {}
    },
    {
      "cell_type": "markdown",
      "source": [
        "## Read CSV from file"
      ],
      "metadata": {}
    },
    {
      "cell_type": "code",
      "source": [
        "DF_new=pd.read_csv('data/sampleset1.csv')"
      ],
      "outputs": [],
      "execution_count": 17,
      "metadata": {}
    },
    {
      "cell_type": "code",
      "source": [
        "DF_new"
      ],
      "outputs": [
        {
          "output_type": "execute_result",
          "execution_count": 18,
          "data": {
            "text/html": "<div>\n<style scoped>\n    .dataframe tbody tr th:only-of-type {\n        vertical-align: middle;\n    }\n\n    .dataframe tbody tr th {\n        vertical-align: top;\n    }\n\n    .dataframe thead th {\n        text-align: right;\n    }\n</style>\n<table border=\"1\" class=\"dataframe\">\n  <thead>\n    <tr style=\"text-align: right;\">\n      <th></th>\n      <th>id</th>\n      <th>emp_name</th>\n      <th>emp_salary</th>\n      <th>start_date</th>\n      <th>dept</th>\n    </tr>\n  </thead>\n  <tbody>\n    <tr>\n      <th>0</th>\n      <td>1</td>\n      <td>Vishavjeet</td>\n      <td>999.30</td>\n      <td>2018-12-04</td>\n      <td>IT</td>\n    </tr>\n    <tr>\n      <th>1</th>\n      <td>2</td>\n      <td>Nimesh</td>\n      <td>878.40</td>\n      <td>2017-09-24</td>\n      <td>IT</td>\n    </tr>\n    <tr>\n      <th>2</th>\n      <td>3</td>\n      <td>Sara</td>\n      <td>611.00</td>\n      <td>2014-11-15</td>\n      <td>HR</td>\n    </tr>\n    <tr>\n      <th>3</th>\n      <td>4</td>\n      <td>Gulfam</td>\n      <td>729.00</td>\n      <td>2014-05-11</td>\n      <td>IT</td>\n    </tr>\n    <tr>\n      <th>4</th>\n      <td>5</td>\n      <td>Jack</td>\n      <td>845.25</td>\n      <td>2016-07-27</td>\n      <td>Finance</td>\n    </tr>\n    <tr>\n      <th>5</th>\n      <td>6</td>\n      <td>Jessica</td>\n      <td>878.00</td>\n      <td>2014-05-21</td>\n      <td>Marketing</td>\n    </tr>\n    <tr>\n      <th>6</th>\n      <td>7</td>\n      <td>Saurav</td>\n      <td>632.80</td>\n      <td>2018-07-30</td>\n      <td>Operations</td>\n    </tr>\n    <tr>\n      <th>7</th>\n      <td>8</td>\n      <td>Sachin</td>\n      <td>722.50</td>\n      <td>2017-06-17</td>\n      <td>SEO</td>\n    </tr>\n  </tbody>\n</table>\n</div>",
            "text/plain": "   id      emp_name     emp_salary            start_date          dept\n0   1    Vishavjeet         999.30            2018-12-04            IT\n1   2        Nimesh         878.40            2017-09-24            IT\n2   3          Sara         611.00            2014-11-15            HR\n3   4        Gulfam         729.00            2014-05-11            IT\n4   5          Jack         845.25            2016-07-27       Finance\n5   6       Jessica         878.00            2014-05-21     Marketing\n6   7        Saurav         632.80            2018-07-30    Operations\n7   8        Sachin         722.50            2017-06-17           SEO"
          },
          "metadata": {}
        }
      ],
      "execution_count": 18,
      "metadata": {}
    },
    {
      "cell_type": "markdown",
      "source": [
        "## Indexing DataFrames with Pandas\n",
        "\n",
        "* DF.iloc[:5,:] — the first 5 rows, and all of the columns for those rows.\n",
        "* DF.iloc[:,:] — the entire DataFrame.\n",
        "* DF.iloc[5:,2:] — rows from position 5 onwards, and columns from position 2 onwards.\n",
        "* DFDF.iloc[:,:2] — the first two columns, and all of the rows for the column.\n",
        "* DFDF.iloc[6:,:] — from 6th row, and all of the columns for that row."
      ],
      "metadata": {}
    },
    {
      "cell_type": "code",
      "source": [
        "print('=========================================================')\n",
        "print('The first 5 rows, and all of the columns for those rows.')\n",
        "print(DF.iloc[:5,:]) \n",
        "print('=========================================================')\n",
        "print('The entire DataFrame.')\n",
        "print(DF.iloc[:,:]) \n",
        "print('=========================================================')\n",
        "print('Rows from position 5 onwards, and columns from position 2 onwards.')\n",
        "print(DF.iloc[5:,2:]) \n",
        "print('=========================================================')\n",
        "print('The first column, and all of the rows for the column.')\n",
        "print(DF.iloc[:,:2]) \n",
        "print('=========================================================')\n",
        "print('From 6th row, and all of the columns for that row.')\n",
        "print(DF.iloc[6:,:]) \n",
        "print('=========================================================')\n"
      ],
      "outputs": [
        {
          "output_type": "stream",
          "name": "stdout",
          "text": [
            "=========================================================\n",
            "The first 5 rows, and all of the columns for those rows.\n",
            "   id      emp_name     emp_salary           start_date       dept\n",
            "0   1    Vishavjeet         999.30           2018-12-04         IT\n",
            "1   2        Nimesh         878.40           2017-09-24         IT\n",
            "2   3          Sara         611.00           2014-11-15         HR\n",
            "3   4        Gulfam         729.00           2014-05-11         IT\n",
            "4   5          Jack         845.25           2016-07-27    Finance\n",
            "=========================================================\n",
            "The entire DataFrame.\n",
            "   id      emp_name     emp_salary            start_date          dept\n",
            "0   1    Vishavjeet         999.30            2018-12-04            IT\n",
            "1   2        Nimesh         878.40            2017-09-24            IT\n",
            "2   3          Sara         611.00            2014-11-15            HR\n",
            "3   4        Gulfam         729.00            2014-05-11            IT\n",
            "4   5          Jack         845.25            2016-07-27       Finance\n",
            "5   6       Jessica         878.00            2014-05-21     Marketing\n",
            "6   7        Saurav         632.80            2018-07-30    Operations\n",
            "7   8        Sachin         722.50            2017-06-17           SEO\n",
            "=========================================================\n",
            "Rows from position 5 onwards, and columns from position 2 onwards.\n",
            "      emp_salary            start_date          dept\n",
            "5          878.0            2014-05-21     Marketing\n",
            "6          632.8            2018-07-30    Operations\n",
            "7          722.5            2017-06-17           SEO\n",
            "=========================================================\n",
            "The first column, and all of the rows for the column.\n",
            "   id      emp_name\n",
            "0   1    Vishavjeet\n",
            "1   2        Nimesh\n",
            "2   3          Sara\n",
            "3   4        Gulfam\n",
            "4   5          Jack\n",
            "5   6       Jessica\n",
            "6   7        Saurav\n",
            "7   8        Sachin\n",
            "=========================================================\n",
            "From 6th row, and all of the columns for that row.\n",
            "   id  emp_name     emp_salary          start_date          dept\n",
            "6   7    Saurav          632.8          2018-07-30    Operations\n",
            "7   8    Sachin          722.5          2017-06-17           SEO\n",
            "=========================================================\n"
          ]
        }
      ],
      "execution_count": 21,
      "metadata": {}
    },
    {
      "cell_type": "markdown",
      "source": [
        "# Read Semistructured Data"
      ],
      "metadata": {}
    },
    {
      "cell_type": "markdown",
      "source": [
        "## Parse JSON - Convert from JSON to Python\n"
      ],
      "metadata": {}
    },
    {
      "cell_type": "code",
      "source": [
        "import json\n",
        "# some JSON:\n",
        "x =  '{ \"name\":\"Jessica\", \"age\":28, \"city\":\"New Delhi\"}'\n",
        "# parse x:\n",
        "y = json.loads(x)\n",
        "# the result is a Python dictionary:\n",
        "print(y[\"age\"])\n",
        "\n"
      ],
      "outputs": [
        {
          "output_type": "stream",
          "name": "stdout",
          "text": [
            "28\n"
          ]
        }
      ],
      "execution_count": 22,
      "metadata": {}
    },
    {
      "cell_type": "code",
      "source": [
        "# a Python object (dict):\n",
        "x = {\n",
        "  \"name\": \"Jessica\",\n",
        "  \"age\": 30,\n",
        "  \"city\": \"New York\"\n",
        "}\n",
        "# convert into JSON:\n",
        "y = json.dumps(x)\n",
        "# the result is a JSON string:\n",
        "print(y)"
      ],
      "outputs": [
        {
          "output_type": "stream",
          "name": "stdout",
          "text": [
            "{\"name\": \"Jessica\", \"age\": 30, \"city\": \"New York\"}\n"
          ]
        }
      ],
      "execution_count": 23,
      "metadata": {}
    },
    {
      "cell_type": "markdown",
      "source": [
        "You can convert Python objects of the following types, into JSON strings:\n",
        "- dict, \n",
        "- list, \n",
        "- tuple, \n",
        "- string, \n",
        "- int, \n",
        "- float, \n",
        "- True,\n",
        "- False,\n",
        "- None\n",
        "\n"
      ],
      "metadata": {}
    },
    {
      "cell_type": "code",
      "source": [
        "import json\n",
        "print(json.dumps({\"name\": \"Jessica\", \"age\": 30}))\n",
        "print(json.dumps([\"apple\", \"bananas\"]))\n",
        "print(json.dumps((\"apple\", \"bananas\")))\n",
        "print(json.dumps(\"hello\"))\n",
        "print(json.dumps(42))\n",
        "print(json.dumps(31.76))\n",
        "print(json.dumps(True))\n",
        "print(json.dumps(False))\n",
        "print(json.dumps(None))\n"
      ],
      "outputs": [
        {
          "output_type": "stream",
          "name": "stdout",
          "text": [
            "{\"name\": \"Jessica\", \"age\": 30}\n",
            "[\"apple\", \"bananas\"]\n",
            "[\"apple\", \"bananas\"]\n",
            "\"hello\"\n",
            "42\n",
            "31.76\n",
            "true\n",
            "false\n",
            "null\n"
          ]
        }
      ],
      "execution_count": 24,
      "metadata": {}
    },
    {
      "cell_type": "markdown",
      "source": [
        "## Format the Result\n"
      ],
      "metadata": {}
    },
    {
      "cell_type": "code",
      "source": [
        " import json\n",
        "x = {\n",
        "  \"name\": \"Jessica\",\n",
        "  \"age\": 30,\n",
        "  \"married\": True,\n",
        "  \"divorced\": False,\n",
        "  \"children\": (\"Ann\",\"Billy\"),\n",
        "  \"pets\": None,\n",
        "  \"cars\": [\n",
        "    {\"model\": \"BMW 230\", \"mpg\": 27.5},\n",
        "    {\"model\": \"Ford Edge\", \"mpg\": 24.1}\n",
        "  ]\n",
        "}\n",
        "print(json.dumps(x))\n"
      ],
      "outputs": [
        {
          "output_type": "stream",
          "name": "stdout",
          "text": [
            "{\"name\": \"Jessica\", \"age\": 30, \"married\": true, \"divorced\": false, \"children\": [\"Ann\", \"Billy\"], \"pets\": null, \"cars\": [{\"model\": \"BMW 230\", \"mpg\": 27.5}, {\"model\": \"Ford Edge\", \"mpg\": 24.1}]}\n"
          ]
        }
      ],
      "execution_count": 25,
      "metadata": {}
    },
    {
      "cell_type": "code",
      "source": [
        "# use four indents to make it easier to read the result:\n",
        "print(json.dumps(x, indent=4))\n"
      ],
      "outputs": [
        {
          "output_type": "stream",
          "name": "stdout",
          "text": [
            "{\n",
            "    \"name\": \"Jessica\",\n",
            "    \"age\": 30,\n",
            "    \"married\": true,\n",
            "    \"divorced\": false,\n",
            "    \"children\": [\n",
            "        \"Ann\",\n",
            "        \"Billy\"\n",
            "    ],\n",
            "    \"pets\": null,\n",
            "    \"cars\": [\n",
            "        {\n",
            "            \"model\": \"BMW 230\",\n",
            "            \"mpg\": 27.5\n",
            "        },\n",
            "        {\n",
            "            \"model\": \"Ford Edge\",\n",
            "            \"mpg\": 24.1\n",
            "        }\n",
            "    ]\n",
            "}\n"
          ]
        }
      ],
      "execution_count": 26,
      "metadata": {}
    },
    {
      "cell_type": "code",
      "source": [
        "# use . and a space to separate objects, and a space, a = and a space to separate keys from their values:\n",
        "print(json.dumps(x, indent=4, separators=(\". \", \" = \")))\n"
      ],
      "outputs": [
        {
          "output_type": "stream",
          "name": "stdout",
          "text": [
            "{\n",
            "    \"name\" = \"Jessica\". \n",
            "    \"age\" = 30. \n",
            "    \"married\" = true. \n",
            "    \"divorced\" = false. \n",
            "    \"children\" = [\n",
            "        \"Ann\". \n",
            "        \"Billy\"\n",
            "    ]. \n",
            "    \"pets\" = null. \n",
            "    \"cars\" = [\n",
            "        {\n",
            "            \"model\" = \"BMW 230\". \n",
            "            \"mpg\" = 27.5\n",
            "        }. \n",
            "        {\n",
            "            \"model\" = \"Ford Edge\". \n",
            "            \"mpg\" = 24.1\n",
            "        }\n",
            "    ]\n",
            "}\n"
          ]
        }
      ],
      "execution_count": 28,
      "metadata": {}
    },
    {
      "cell_type": "code",
      "source": [
        "# sort the result alphabetically by keys:\n",
        "print(json.dumps(x, indent=4, sort_keys=True))"
      ],
      "outputs": [
        {
          "output_type": "stream",
          "name": "stdout",
          "text": [
            "{\n",
            "    \"age\": 30,\n",
            "    \"cars\": [\n",
            "        {\n",
            "            \"model\": \"BMW 230\",\n",
            "            \"mpg\": 27.5\n",
            "        },\n",
            "        {\n",
            "            \"model\": \"Ford Edge\",\n",
            "            \"mpg\": 24.1\n",
            "        }\n",
            "    ],\n",
            "    \"children\": [\n",
            "        \"Ann\",\n",
            "        \"Billy\"\n",
            "    ],\n",
            "    \"divorced\": false,\n",
            "    \"married\": true,\n",
            "    \"name\": \"Jessica\",\n",
            "    \"pets\": null\n",
            "}\n"
          ]
        }
      ],
      "execution_count": 29,
      "metadata": {}
    },
    {
      "cell_type": "markdown",
      "source": [
        "## Read json with Pandas "
      ],
      "metadata": {}
    },
    {
      "cell_type": "markdown",
      "source": [
        "```json\n",
        "{ \n",
        "   \"ID\":[\"1\",\"2\",\"3\",\"4\",\"5\",\"6\",\"7\",\"8\" ],\n",
        "   \"Name\":[\"Vishavjeet\",\"Amit\",\"Nimesh\",\"Sara\",\"Saurav\",\"Gulfam\",\"Anupam\",\"Guru\" ],\n",
        "   \"Salary\":[\"623.3\",\"515.2\",\"611\",\"729\",\"843.25\",\"578\",\"632.8\",\"722.5\" ],\n",
        "   \"StartDate\":[ \"1/1/2013\",\"9/23/2014\",\"11/15/2013\",\"5/11/2014\",\"3/27/2015\",\"5/21/2013\",\n",
        "      \"7/30/2013\",\"6/17/2014\"],\n",
        "   \"Dept\":[ \"IT\",\"Operations\",\"IT\",\"HR\",\"Finance\",\"IT\",\"Operations\",\"Finance\"]\n",
        "}\n",
        "\n",
        "\n",
        "```"
      ],
      "metadata": {}
    },
    {
      "cell_type": "code",
      "source": [
        "URLJSON='https://raw.githubusercontent.com/alhaol/psut-de/main/data/input.json'\n",
        "data = pd.read_json(URLJSON)\n",
        "print (data)\n"
      ],
      "outputs": [
        {
          "output_type": "stream",
          "name": "stdout",
          "text": [
            "   ID        Name  Salary   StartDate        Dept\n",
            "0   1  Vishavjeet  623.30    1/1/2013          IT\n",
            "1   2        Amit  515.20   9/23/2014  Operations\n",
            "2   3      Nimesh  611.00  11/15/2013          IT\n",
            "3   4        Sara  729.00   5/11/2014          HR\n",
            "4   5      Saurav  843.25   3/27/2015     Finance\n",
            "5   6      Gulfam  578.00   5/21/2013          IT\n",
            "6   7      Anupam  632.80   7/30/2013  Operations\n",
            "7   8        Guru  722.50   6/17/2014     Finance\n"
          ]
        }
      ],
      "execution_count": 31,
      "metadata": {}
    },
    {
      "cell_type": "code",
      "source": [
        "#Reading Specific Columns and Rows\n",
        "print (data.iloc[3:6,1:3])"
      ],
      "outputs": [
        {
          "output_type": "stream",
          "name": "stdout",
          "text": [
            "     Name  Salary\n",
            "3    Sara  729.00\n",
            "4  Saurav  843.25\n",
            "5  Gulfam  578.00\n"
          ]
        }
      ],
      "execution_count": 33,
      "metadata": {}
    },
    {
      "cell_type": "code",
      "source": [
        "# to_json function  to read the JSON file content into individual records\n",
        "print(data.to_json(orient='records', lines=True))"
      ],
      "outputs": [
        {
          "output_type": "stream",
          "name": "stdout",
          "text": [
            "{\"ID\":1,\"Name\":\"Vishavjeet\",\"Salary\":623.3,\"StartDate\":\"1\\/1\\/2013\",\"Dept\":\"IT\"}\n",
            "{\"ID\":2,\"Name\":\"Amit\",\"Salary\":515.2,\"StartDate\":\"9\\/23\\/2014\",\"Dept\":\"Operations\"}\n",
            "{\"ID\":3,\"Name\":\"Nimesh\",\"Salary\":611.0,\"StartDate\":\"11\\/15\\/2013\",\"Dept\":\"IT\"}\n",
            "{\"ID\":4,\"Name\":\"Sara\",\"Salary\":729.0,\"StartDate\":\"5\\/11\\/2014\",\"Dept\":\"HR\"}\n",
            "{\"ID\":5,\"Name\":\"Saurav\",\"Salary\":843.25,\"StartDate\":\"3\\/27\\/2015\",\"Dept\":\"Finance\"}\n",
            "{\"ID\":6,\"Name\":\"Gulfam\",\"Salary\":578.0,\"StartDate\":\"5\\/21\\/2013\",\"Dept\":\"IT\"}\n",
            "{\"ID\":7,\"Name\":\"Anupam\",\"Salary\":632.8,\"StartDate\":\"7\\/30\\/2013\",\"Dept\":\"Operations\"}\n",
            "{\"ID\":8,\"Name\":\"Guru\",\"Salary\":722.5,\"StartDate\":\"6\\/17\\/2014\",\"Dept\":\"Finance\"}\n"
          ]
        }
      ],
      "execution_count": 34,
      "metadata": {}
    },
    {
      "cell_type": "markdown",
      "source": [
        "## Read Unstructured Data"
      ],
      "metadata": {}
    },
    {
      "cell_type": "markdown",
      "source": [
        "```txt\n",
        "Line 1: Python is a high-level programming language.\n",
        "Line 2: It has a design philosophy that general-purpose interpreted,emphasizes code readability, notably using significant whitespace, interactive, object-oriented, and high-level programming language.\n",
        "Line 3: It has grown from humble beginnings into one of the most popular programming languages on the planet.\n",
        "Line 4: Python support Artificial Intelligence (AI), Machine Learning (ML), natural language processing and data science.\n",
        "Line 5: It's a great language for first time programmers. \n",
        "Line 6: It's an open source programming language that is known for its simple and easy to learn syntax.it has numerous libraries and built in features which makes it easy to tackle the needs of Data science.\n",
        "```"
      ],
      "metadata": {}
    },
    {
      "cell_type": "code",
      "source": [
        "URLTEXT='https://raw.githubusercontent.com/alhaol/psut-de/main/data/input_text.txt'\n",
        "import requests\n",
        "response = requests.get(URLTEXT)\n",
        "data = response.text\n",
        "for i, line in enumerate(data.split('\\n')):\n",
        "    print(f'{i}   {line}')"
      ],
      "outputs": [
        {
          "output_type": "stream",
          "name": "stdout",
          "text": [
            "0   Line 1: Python is a high-level programming language.\n",
            "1   Line 2: It has a design philosophy that general-purpose interpreted,emphasizes code readability, notably using significant whitespace, interactive, object-oriented, and high-level programming language.\n",
            "2   Line 3: It has grown from humble beginnings into one of the most popular programming languages on the planet.\n",
            "3   Line 4: Python support Artificial Intelligence (AI), Machine Learning (ML), natural language processing and data science.\n",
            "4   Line 5: It's a great language for first time programmers. \n",
            "5   Line 6: It's an open source programming language that is known for its simple and easy to learn syntax.it has numerous libraries and built in features which makes it easy to tackle the needs of Data science.\n"
          ]
        }
      ],
      "execution_count": 53,
      "metadata": {}
    },
    {
      "cell_type": "markdown",
      "source": [
        "## Counting Word Frequency\n"
      ],
      "metadata": {}
    },
    {
      "cell_type": "code",
      "source": [
        "from collections import Counter\n",
        "p = Counter(data.split())\n",
        "print(p)"
      ],
      "outputs": [
        {
          "output_type": "stream",
          "name": "stdout",
          "text": [
            "Counter({'Line': 6, 'programming': 4, 'and': 4, 'a': 3, 'has': 3, 'the': 3, 'language': 3, 'Python': 2, 'is': 2, 'high-level': 2, 'language.': 2, 'It': 2, 'that': 2, 'of': 2, 'science.': 2, \"It's\": 2, 'for': 2, 'easy': 2, 'to': 2, '1:': 1, '2:': 1, 'design': 1, 'philosophy': 1, 'general-purpose': 1, 'interpreted,emphasizes': 1, 'code': 1, 'readability,': 1, 'notably': 1, 'using': 1, 'significant': 1, 'whitespace,': 1, 'interactive,': 1, 'object-oriented,': 1, '3:': 1, 'grown': 1, 'from': 1, 'humble': 1, 'beginnings': 1, 'into': 1, 'one': 1, 'most': 1, 'popular': 1, 'languages': 1, 'on': 1, 'planet.': 1, '4:': 1, 'support': 1, 'Artificial': 1, 'Intelligence': 1, '(AI),': 1, 'Machine': 1, 'Learning': 1, '(ML),': 1, 'natural': 1, 'processing': 1, 'data': 1, '5:': 1, 'great': 1, 'first': 1, 'time': 1, 'programmers.': 1, '6:': 1, 'an': 1, 'open': 1, 'source': 1, 'known': 1, 'its': 1, 'simple': 1, 'learn': 1, 'syntax.it': 1, 'numerous': 1, 'libraries': 1, 'built': 1, 'in': 1, 'features': 1, 'which': 1, 'makes': 1, 'it': 1, 'tackle': 1, 'needs': 1, 'Data': 1})\n"
          ]
        }
      ],
      "execution_count": 54,
      "metadata": {}
    },
    {
      "cell_type": "code",
      "source": [
        "dict(p)"
      ],
      "outputs": [
        {
          "output_type": "execute_result",
          "execution_count": 56,
          "data": {
            "text/plain": "{'Line': 6,\n '1:': 1,\n 'Python': 2,\n 'is': 2,\n 'a': 3,\n 'high-level': 2,\n 'programming': 4,\n 'language.': 2,\n '2:': 1,\n 'It': 2,\n 'has': 3,\n 'design': 1,\n 'philosophy': 1,\n 'that': 2,\n 'general-purpose': 1,\n 'interpreted,emphasizes': 1,\n 'code': 1,\n 'readability,': 1,\n 'notably': 1,\n 'using': 1,\n 'significant': 1,\n 'whitespace,': 1,\n 'interactive,': 1,\n 'object-oriented,': 1,\n 'and': 4,\n '3:': 1,\n 'grown': 1,\n 'from': 1,\n 'humble': 1,\n 'beginnings': 1,\n 'into': 1,\n 'one': 1,\n 'of': 2,\n 'the': 3,\n 'most': 1,\n 'popular': 1,\n 'languages': 1,\n 'on': 1,\n 'planet.': 1,\n '4:': 1,\n 'support': 1,\n 'Artificial': 1,\n 'Intelligence': 1,\n '(AI),': 1,\n 'Machine': 1,\n 'Learning': 1,\n '(ML),': 1,\n 'natural': 1,\n 'language': 3,\n 'processing': 1,\n 'data': 1,\n 'science.': 2,\n '5:': 1,\n \"It's\": 2,\n 'great': 1,\n 'for': 2,\n 'first': 1,\n 'time': 1,\n 'programmers.': 1,\n '6:': 1,\n 'an': 1,\n 'open': 1,\n 'source': 1,\n 'known': 1,\n 'its': 1,\n 'simple': 1,\n 'easy': 2,\n 'to': 2,\n 'learn': 1,\n 'syntax.it': 1,\n 'numerous': 1,\n 'libraries': 1,\n 'built': 1,\n 'in': 1,\n 'features': 1,\n 'which': 1,\n 'makes': 1,\n 'it': 1,\n 'tackle': 1,\n 'needs': 1,\n 'Data': 1}"
          },
          "metadata": {}
        }
      ],
      "execution_count": 56,
      "metadata": {}
    },
    {
      "cell_type": "markdown",
      "source": [
        "-------"
      ],
      "metadata": {}
    },
    {
      "cell_type": "code",
      "source": [],
      "outputs": [],
      "execution_count": null,
      "metadata": {}
    }
  ],
  "metadata": {
    "kernelspec": {
      "display_name": "Python 3",
      "language": "python",
      "name": "python3"
    },
    "language_info": {
      "name": "python",
      "version": "3.8.3",
      "mimetype": "text/x-python",
      "codemirror_mode": {
        "name": "ipython",
        "version": 3
      },
      "pygments_lexer": "ipython3",
      "nbconvert_exporter": "python",
      "file_extension": ".py"
    },
    "nteract": {
      "version": "0.25.1"
    }
  },
  "nbformat": 4,
  "nbformat_minor": 4
}