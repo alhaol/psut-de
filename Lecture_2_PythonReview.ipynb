{
  "cells": [
    {
      "cell_type": "markdown",
      "source": [
        "<center><img src=\"https://drive.google.com/uc?export=view&id=1f0tvL6DLzfOQ_xHNdaBe_6fDUd27lc6U\" alt=\"PSUT\"  width=\"180px\"> \n",
        "<p> \n",
        "King Hussein School for Computing Sciences <br>\n",
        "Department of Data Science <br>\n",
        "Data Engineering Lab <br>\n",
        "Python Review, Jupyter Notebook, & Google Colab \n",
        "</p></center>"
      ],
      "metadata": {
        "id": "2YJoYHCrkts-"
      }
    },
    {
      "cell_type": "markdown",
      "source": [
        "  [![Open In Colab](https://colab.research.google.com/assets/colab-badge.svg)](https://colab.research.google.com/github.com/alhaol/psut-de/blob/main/reviews/Lecture_2_PythonReview.ipynb)"
      ],
      "metadata": {
        "id": "H8XPk592wKHw"
      }
    },
    {
      "cell_type": "markdown",
      "source": [
        "<h1> Install Anaconda </h1>\n",
        "<h4> System requirements </h4>\n",
        "<ul>\n",
        "<li>License: Free use and redistribution under the terms of the End User License Agreement - Anaconda® Individual Edition. </li>\n",
        "<li>Operating system: Windows 8 or newer, 64-bit macOS 10.13+, or Linux, including Ubuntu, RedHat, CentOS 6+, and others.</li>\n",
        "<li>If your operating system is older than what is currently supported, you can find older versions of the Anaconda installers in our archive that might work for you. See Using Anaconda on older operating systems for version recommendations.</li>\n",
        "<li>System architecture: Windows- 64-bit x86, 32-bit x86; MacOS- 64-bit x86; Linux- 64-bit x86, 64-bit Power8/Power9.</li>\n",
        "<li>Minimum 5 GB disk space to download and install.</li>\n",
        "</ul>\n",
        "\n",
        "<h4> Installation Instructions:</h4>\n",
        "<ul>\n",
        "<li><a href = \"https://docs.anaconda.com/anaconda/install/windows/\"> Installing on Windows</a> </li>\n",
        "<li><a href = \"https://docs.anaconda.com/anaconda/install/mac-os/\"> Installing on macOS</a></li>\n",
        "<li><a href = \"https://docs.anaconda.com/anaconda/install/linux/\"> Installing on Linux</a></li>\n",
        "</ul>"
      ],
      "metadata": {
        "id": "6eM9whQLlKz-"
      }
    },
    {
      "cell_type": "markdown",
      "source": [
        "<h1> Loading and saving data from external sources - Google Colab </h1>\n",
        "<h4> Uploading files from your local file system</h4>\n",
        "\n",
        "``````\n",
        "from google.colab import files\n",
        "uploaded = files.upload()\n",
        "``````\n",
        "\n",
        "<h4> Downloading files to your local file system</h4>\n",
        "\n",
        "``````\n",
        "from google.colab import files\n",
        "with open('example.txt', 'w') as f:\n",
        "  f.write('some content')\n",
        "files.download('example.txt')\n",
        "``````\n",
        "\n",
        "<h4> Google Drive</h4>\n",
        "You can access files in Drive in a number of ways, including:\n",
        "<ul>\n",
        "<li> Mounting your Google Drive in the runtime's virtual machine <br>\n",
        "The example below shows how to mount your Google Drive on your runtime using an authorization code, and how to write and read files there. Once executed, you will be able to see the new file (foo.txt) at https://drive.google.com/.\n",
        "\n",
        "This only supports reading, writing, and moving files; to programmatically modify sharing settings or other metadata, use one of the other options below.\n",
        "\n",
        "Note: When using the 'Mount Drive' button in the file browser, no authentication codes are necessary for notebooks that have only been edited by the current user.\n",
        "\n",
        "`````\n",
        "from google.colab import drive\n",
        "drive.mount('/content/drive')\n",
        "with open('/content/drive/My Drive/foo.txt', 'w') as f:\n",
        "  f.write('Hello Google Drive!')\n",
        "!cat /content/drive/My\\ Drive/foo.txt\n",
        "drive.flush_and_unmount()\n",
        "print('All changes made in this colab session should now be visible in Drive.')\n",
        "`````\n",
        "\n",
        "</li>\n",
        "<li> Using the <a here=\"https://developers.google.com/drive/api/v3/about-sdk\">native REST API</a></li>\n",
        "</ul>\n",
        "\n",
        "<h5> For More Information check this <a href=\"https://colab.research.google.com/notebooks/io.ipynb#scrollTo=D78AM1fFt2ty\" > Ref </a></h5>\n"
      ],
      "metadata": {
        "id": "E2CR_uNfmvvH"
      }
    },
    {
      "cell_type": "markdown",
      "source": [
        "<h1> Why Python?!</h1>\n",
        "<ol>\n",
        "<li> <b>Easy to Learn and Use.</b> It has simplified syntax and not complicated, which gives more emphasis on natural language.  </li>\n",
        "<li> <b>Mature and Supportive Python Community.</b>  There are plenty of documentation, guides and Video Tutorials for Python language are available that learner and developer of any skill level or ages can use and receive the support required to enhance their knowledge in python programming language.  </li>\n",
        "<li> <b>Support from Renowned Corporate Sponsors.</b> Python Programming language is heavily backed by Facebook, Amazon Web Services, and especially Google.  </li>\n",
        "<li> <b>Hundreds of Python Libraries and Frameworks.</b> Python has excellent libraries that you can use to select and save your time and effort on the initial cycle of development. </li>\n",
        "<li> <b>Versatility, Efficiency, Reliability, and Speed.</b> Python can be used in nearly any kind of environment, and one will not face any kind of performance loss issue irrespective of the platform one is working. </li>\n",
        "<li> <b>Big data, Machine Learning and Cloud Computing.</b> Cloud Computing, Machine Learning, and Big Data are some of the hottest trends in the computer science world right now. Python language is one of the most popular used tool for data science and analytics.  </li>\n",
        "<li> <b>The Flexibility of Python Language.</b> The python language is so flexible that it gives the developer the chance to try something new. The person who is an expert in python language is not just limited to build similar kinds of things but can also go on to try to make something different than before. </li>\n",
        "\n",
        "</ol>"
      ],
      "metadata": {
        "id": "jZNV96hiE4ly"
      }
    },
    {
      "cell_type": "markdown",
      "source": [
        "\n",
        "<h1> Python Review:</h1>\n",
        "<h3> Numpy, Dictionary, Series, DataFrame, Function, loop and control statements</h3>"
      ],
      "metadata": {
        "id": "-IeIrGRtxE8H"
      }
    },
    {
      "cell_type": "markdown",
      "source": [
        "<h2>More & More about array, dataframe </h2>\n",
        "\n",
        "Often when faced with a large amount of data, a first step is to compute summary statistics for the data in question. Perhaps the most common summary statistics are the mean and standard deviation, which allow you to summarize the \"typical\" values in a dataset, but other aggregates are useful as well (the sum, product, median, minimum and maximum, quantiles, etc.).\n",
        "\n",
        "`NumPy` has fast <u>built-in</u> aggregation functions for working on arrays: `np.sum`, `np.min`, `np.max`, `np.mean`, `np.median`, `np.std`, and `np.prod`. Also, `NumPy` has fast sorting functions: `np.sort` and `np.argsort`.\n",
        "\n",
        "`Pandas` also has fast <u>built-in</u> summarization functions for working on dataframes: `info`, `shape`, and `describe`. Using the built-in function (`columns`), you can retrieve the columns of a dataframe. "
      ],
      "metadata": {
        "id": "UX3OIqNQoY1z"
      }
    },
    {
      "cell_type": "code",
      "source": [
        "import numpy as np\n",
        "\n",
        "L = np.random.random(10)\n",
        "print(L,'\\n')\n",
        "\n",
        "# Summing the Values in an Array\n",
        "print(sum(L))\n",
        "print(np.sum(L),'\\n')\n",
        "\n",
        "# Minimum and Maximum\n",
        "print(\"Min= \", min(L))\n",
        "print(\"Max= \",np.max(L),'\\n')\n",
        "\n",
        "# Product of elements\n",
        "print(\"Prod= \", np.prod(L))\n",
        "\n"
      ],
      "outputs": [
        {
          "output_type": "stream",
          "name": "stdout",
          "text": [
            "[0.49818196 0.54285199 0.70933449 0.3575627  0.7387699  0.51835678\n",
            " 0.72990943 0.50795992 0.66164571 0.78932399] \n",
            "\n",
            "6.053896887784442\n",
            "6.053896887784443 \n",
            "\n",
            "Min=  0.35756270446917315\n",
            "Max=  0.7893239933666768 \n",
            "\n",
            "Prod=  0.005086158967527479\n"
          ]
        }
      ],
      "execution_count": 2,
      "metadata": {
        "id": "0m1gSUUDreiw",
        "executionInfo": {
          "status": "ok",
          "timestamp": 1603699885172,
          "user_tz": -180,
          "elapsed": 1112,
          "user": {
            "displayName": "Bushra Alhijawi",
            "photoUrl": "https://lh3.googleusercontent.com/a-/AOh14Gg-ekCitA2mOdvj4QrCnH9vDSmvF18hS2II8jsf=s64",
            "userId": "01171650452258108542"
          }
        },
        "outputId": "f372e4f1-6487-41b1-a866-32ddd2e8a8cf",
        "colab": {
          "base_uri": "https://localhost:8080/",
          "height": 187
        }
      }
    },
    {
      "cell_type": "code",
      "source": [
        "M = np.random.random((3, 4))\n",
        "print(M,\"\\n\")\n",
        "\n",
        "# Summing the Values in a 2D-Array\n",
        "print(M.sum(),\"\\n\")\n",
        "\n",
        "# The Min value within each column\n",
        "print(\"Min value/col: \", M.min(axis=0))\n",
        "\n",
        "# The Max value within each row\n",
        "print(\"Max value/row: \", M.max(axis=1))\n"
      ],
      "outputs": [
        {
          "output_type": "stream",
          "name": "stdout",
          "text": [
            "[[0.61962731 0.5862941  0.89922395 0.10260399]\n",
            " [0.56660224 0.53498745 0.14889557 0.7258822 ]\n",
            " [0.49334065 0.18794544 0.05265037 0.02354366]] \n",
            "\n",
            "4.941596920585633 \n",
            "\n",
            "Min value/col:  [0.49334065 0.18794544 0.05265037 0.02354366]\n",
            "Max value/row:  [0.89922395 0.7258822  0.49334065]\n"
          ]
        }
      ],
      "execution_count": 3,
      "metadata": {
        "id": "qeUu86DIsFnZ",
        "executionInfo": {
          "status": "ok",
          "timestamp": 1603700412784,
          "user_tz": -180,
          "elapsed": 723,
          "user": {
            "displayName": "Bushra Alhijawi",
            "photoUrl": "https://lh3.googleusercontent.com/a-/AOh14Gg-ekCitA2mOdvj4QrCnH9vDSmvF18hS2II8jsf=s64",
            "userId": "01171650452258108542"
          }
        },
        "outputId": "6a44df0c-8192-45be-f430-9d172c5d2f14",
        "colab": {
          "base_uri": "https://localhost:8080/",
          "height": 153
        }
      }
    },
    {
      "cell_type": "code",
      "source": [
        "# Revision of Broadcasting\n",
        "a = np.array([0, 1, 2])\n",
        "\n",
        "print(\"a \", a,\"\\n\" )\n",
        "\n",
        "print(\"a*2 \", a*2, '\\n')\n",
        "print(\"---------------------------------\")\n",
        "###############################\n",
        "b = np.array([5, 5, 5])\n",
        "\n",
        "print(\"b \", b, '\\n')\n",
        "\n",
        "print(\"a * b \", np.multiply(a,b), '\\n')\n",
        "print(\"---------------------------------\")\n",
        "###############################\n",
        "c=  np.ones((3, 3))\n",
        "\n",
        "print (\"c \",c, '\\n')\n",
        "\n",
        "print(\"a+c\", np.add(a,c), '\\n')\n",
        "print(\"---------------------------------\")\n",
        "###############################\n",
        "d = np.random.random((3,4))\n",
        "\n",
        "print (\"d \",d, '\\n')\n",
        "\n",
        "print(\"b*d\", np.multiply(b,d), '\\n')"
      ],
      "outputs": [
        {
          "output_type": "stream",
          "name": "stdout",
          "text": [
            "a  [0 1 2] \n",
            "\n",
            "a*2  [0 2 4] \n",
            "\n",
            "---------------------------------\n",
            "b  [5 5 5] \n",
            "\n",
            "a * b  [ 0  5 10] \n",
            "\n",
            "---------------------------------\n",
            "c  [[1. 1. 1.]\n",
            " [1. 1. 1.]\n",
            " [1. 1. 1.]] \n",
            "\n",
            "a+c [[1. 2. 3.]\n",
            " [1. 2. 3.]\n",
            " [1. 2. 3.]] \n",
            "\n",
            "---------------------------------\n",
            "d  [[0.21634235 0.1347284  0.57886083 0.44477752]\n",
            " [0.96740687 0.24404157 0.34757184 0.19750306]\n",
            " [0.3995332  0.4792001  0.66524948 0.88690322]] \n",
            "\n"
          ]
        },
        {
          "output_type": "error",
          "ename": "ValueError",
          "evalue": "ignored",
          "traceback": [
            "\u001b[0;31m---------------------------------------------------------------------------\u001b[0m",
            "\u001b[0;31mValueError\u001b[0m                                Traceback (most recent call last)",
            "\u001b[0;32m<ipython-input-4-f6ef1c800cdb>\u001b[0m in \u001b[0;36m<module>\u001b[0;34m()\u001b[0m\n\u001b[1;32m     25\u001b[0m \u001b[0mprint\u001b[0m \u001b[0;34m(\u001b[0m\u001b[0;34m\"d \"\u001b[0m\u001b[0;34m,\u001b[0m\u001b[0md\u001b[0m\u001b[0;34m,\u001b[0m \u001b[0;34m'\\n'\u001b[0m\u001b[0;34m)\u001b[0m\u001b[0;34m\u001b[0m\u001b[0;34m\u001b[0m\u001b[0m\n\u001b[1;32m     26\u001b[0m \u001b[0;34m\u001b[0m\u001b[0m\n\u001b[0;32m---> 27\u001b[0;31m \u001b[0mprint\u001b[0m\u001b[0;34m(\u001b[0m\u001b[0;34m\"b*d\"\u001b[0m\u001b[0;34m,\u001b[0m \u001b[0mnp\u001b[0m\u001b[0;34m.\u001b[0m\u001b[0mmultiply\u001b[0m\u001b[0;34m(\u001b[0m\u001b[0mb\u001b[0m\u001b[0;34m,\u001b[0m\u001b[0md\u001b[0m\u001b[0;34m)\u001b[0m\u001b[0;34m,\u001b[0m \u001b[0;34m'\\n'\u001b[0m\u001b[0;34m)\u001b[0m\u001b[0;34m\u001b[0m\u001b[0;34m\u001b[0m\u001b[0m\n\u001b[0m",
            "\u001b[0;31mValueError\u001b[0m: operands could not be broadcast together with shapes (3,) (3,4) "
          ]
        }
      ],
      "execution_count": 4,
      "metadata": {
        "id": "OeJ5iBsuuGXk",
        "executionInfo": {
          "status": "error",
          "timestamp": 1603700864656,
          "user_tz": -180,
          "elapsed": 796,
          "user": {
            "displayName": "Bushra Alhijawi",
            "photoUrl": "https://lh3.googleusercontent.com/a-/AOh14Gg-ekCitA2mOdvj4QrCnH9vDSmvF18hS2II8jsf=s64",
            "userId": "01171650452258108542"
          }
        },
        "outputId": "5e487494-cdc5-4e2f-cc2b-db52ccb377c3",
        "colab": {
          "base_uri": "https://localhost:8080/",
          "height": 588
        }
      }
    },
    {
      "cell_type": "code",
      "source": [
        "x = np.array([2, 1, 4, 3, 5])\n",
        "print(\"x \",x,'\\n') \n",
        "\n",
        "# Sorting the elements of an array \n",
        "print(\"Sorted \",np.sort(x),'\\n') \n",
        "\n",
        "# Indices of the sorted elements\n",
        "print(\"Indx of Sorted Ele\",np.argsort(x),'\\n')"
      ],
      "outputs": [
        {
          "output_type": "stream",
          "name": "stdout",
          "text": [
            "x  [2 1 4 3 5] \n",
            "\n",
            "Sorted  [1 2 3 4 5] \n",
            "\n",
            "Indx of Sorted Ele [1 0 3 2 4] \n",
            "\n"
          ]
        }
      ],
      "execution_count": 5,
      "metadata": {
        "id": "QdWCr96jwLfF",
        "executionInfo": {
          "status": "ok",
          "timestamp": 1603701063205,
          "user_tz": -180,
          "elapsed": 799,
          "user": {
            "displayName": "Bushra Alhijawi",
            "photoUrl": "https://lh3.googleusercontent.com/a-/AOh14Gg-ekCitA2mOdvj4QrCnH9vDSmvF18hS2II8jsf=s64",
            "userId": "01171650452258108542"
          }
        },
        "outputId": "0aa5ac28-50e2-4ed7-dd46-d25d48907f88",
        "colab": {
          "base_uri": "https://localhost:8080/",
          "height": 119
        }
      }
    },
    {
      "cell_type": "code",
      "source": [
        "y = np.random.randint(0, 10, (4, 6))\n",
        "print(\"y \",y,'\\n') \n",
        "# sort each column of y\n",
        "print(\"Sorted cols \\n\",np.sort(y, axis=0),'\\n') \n",
        "# sort each row of y\n",
        "print(\"Sorted rows \\n\",np.sort(y, axis=1),'\\n') "
      ],
      "outputs": [
        {
          "output_type": "stream",
          "name": "stdout",
          "text": [
            "y  [[2 8 5 6 4 4]\n",
            " [8 7 5 3 9 7]\n",
            " [4 1 4 9 8 9]\n",
            " [8 2 1 4 6 9]] \n",
            "\n",
            "Sorted cols \n",
            " [[2 1 1 3 4 4]\n",
            " [4 2 4 4 6 7]\n",
            " [8 7 5 6 8 9]\n",
            " [8 8 5 9 9 9]] \n",
            "\n",
            "Sorted rows \n",
            " [[2 4 4 5 6 8]\n",
            " [3 5 7 7 8 9]\n",
            " [1 4 4 8 9 9]\n",
            " [1 2 4 6 8 9]] \n",
            "\n"
          ]
        }
      ],
      "execution_count": 8,
      "metadata": {
        "id": "NalHCO_Nx_nw",
        "executionInfo": {
          "status": "ok",
          "timestamp": 1603701346928,
          "user_tz": -180,
          "elapsed": 761,
          "user": {
            "displayName": "Bushra Alhijawi",
            "photoUrl": "https://lh3.googleusercontent.com/a-/AOh14Gg-ekCitA2mOdvj4QrCnH9vDSmvF18hS2II8jsf=s64",
            "userId": "01171650452258108542"
          }
        },
        "outputId": "b706bf48-6671-4be3-931f-e94447c3510b",
        "colab": {
          "base_uri": "https://localhost:8080/",
          "height": 306
        }
      }
    },
    {
      "cell_type": "code",
      "source": [
        "import pandas as pd\n",
        "sdf = {\n",
        "    'County':['Østfold', 'Hordaland', 'Oslo', 'Hedmark', 'Oppland', 'Buskerud'],\n",
        "    'ISO-Code':[1,2,3,4,5,6],\n",
        "    'Area': [4180.69, 4917.94, 454.07, 27397.76, 25192.10, 14910.94],\n",
        "    'Administrative centre': [\"Sarpsborg\", \"Oslo\", \"City of Oslo\", \"Hamar\", \"Lillehammer\", \"Drammen\"]\n",
        "    }\n",
        "\n",
        "df = pd.DataFrame(sdf)\n",
        "print(\"DF \\n\",df,\"\\n\")\n",
        "\n",
        "# Displays the rows, columns, data types and memory used by the dataframe\n",
        "print(\"Display df info \\n\")\n",
        "df.info()\n",
        "\n",
        "\n",
        "# Displays the no of data points and columns in the dataframe\n",
        "print(\"\\nDF shape \\n\",df.shape,'\\n')\n",
        "\n",
        "# Display all columns of the dataframe\n",
        "print(\"DF columns \\n\",df.columns,'\\n')\n",
        "\n",
        "# Displays summary statistics for each numerical column in the dataframe\n",
        "print(\"Display df summary \\n\")\n",
        "df.describe()"
      ],
      "outputs": [
        {
          "output_type": "stream",
          "name": "stdout",
          "text": [
            "DF \n",
            "       County  ISO-Code      Area Administrative centre\n",
            "0    Østfold         1   4180.69             Sarpsborg\n",
            "1  Hordaland         2   4917.94                  Oslo\n",
            "2       Oslo         3    454.07          City of Oslo\n",
            "3    Hedmark         4  27397.76                 Hamar\n",
            "4    Oppland         5  25192.10           Lillehammer\n",
            "5   Buskerud         6  14910.94               Drammen \n",
            "\n",
            "Display df info \n",
            "\n",
            "<class 'pandas.core.frame.DataFrame'>\n",
            "RangeIndex: 6 entries, 0 to 5\n",
            "Data columns (total 4 columns):\n",
            " #   Column                 Non-Null Count  Dtype  \n",
            "---  ------                 --------------  -----  \n",
            " 0   County                 6 non-null      object \n",
            " 1   ISO-Code               6 non-null      int64  \n",
            " 2   Area                   6 non-null      float64\n",
            " 3   Administrative centre  6 non-null      object \n",
            "dtypes: float64(1), int64(1), object(2)\n",
            "memory usage: 320.0+ bytes\n",
            "\n",
            "DF shape \n",
            " (6, 4) \n",
            "\n",
            "DF columns \n",
            " Index(['County', 'ISO-Code', 'Area', 'Administrative centre'], dtype='object') \n",
            "\n",
            "Display df summary \n",
            "\n"
          ]
        },
        {
          "output_type": "execute_result",
          "execution_count": 9,
          "data": {
            "text/html": "<div>\n<style scoped>\n    .dataframe tbody tr th:only-of-type {\n        vertical-align: middle;\n    }\n\n    .dataframe tbody tr th {\n        vertical-align: top;\n    }\n\n    .dataframe thead th {\n        text-align: right;\n    }\n</style>\n<table border=\"1\" class=\"dataframe\">\n  <thead>\n    <tr style=\"text-align: right;\">\n      <th></th>\n      <th>ISO-Code</th>\n      <th>Area</th>\n    </tr>\n  </thead>\n  <tbody>\n    <tr>\n      <th>count</th>\n      <td>6.000000</td>\n      <td>6.000000</td>\n    </tr>\n    <tr>\n      <th>mean</th>\n      <td>3.500000</td>\n      <td>12842.250000</td>\n    </tr>\n    <tr>\n      <th>std</th>\n      <td>1.870829</td>\n      <td>11488.650565</td>\n    </tr>\n    <tr>\n      <th>min</th>\n      <td>1.000000</td>\n      <td>454.070000</td>\n    </tr>\n    <tr>\n      <th>25%</th>\n      <td>2.250000</td>\n      <td>4365.002500</td>\n    </tr>\n    <tr>\n      <th>50%</th>\n      <td>3.500000</td>\n      <td>9914.440000</td>\n    </tr>\n    <tr>\n      <th>75%</th>\n      <td>4.750000</td>\n      <td>22621.810000</td>\n    </tr>\n    <tr>\n      <th>max</th>\n      <td>6.000000</td>\n      <td>27397.760000</td>\n    </tr>\n  </tbody>\n</table>\n</div>",
            "text/plain": "       ISO-Code          Area\ncount  6.000000      6.000000\nmean   3.500000  12842.250000\nstd    1.870829  11488.650565\nmin    1.000000    454.070000\n25%    2.250000   4365.002500\n50%    3.500000   9914.440000\n75%    4.750000  22621.810000\nmax    6.000000  27397.760000"
          },
          "metadata": {
            "tags": []
          }
        }
      ],
      "execution_count": 9,
      "metadata": {
        "id": "RtL3NOdezBb_",
        "executionInfo": {
          "status": "ok",
          "timestamp": 1603701497094,
          "user_tz": -180,
          "elapsed": 760,
          "user": {
            "displayName": "Bushra Alhijawi",
            "photoUrl": "https://lh3.googleusercontent.com/a-/AOh14Gg-ekCitA2mOdvj4QrCnH9vDSmvF18hS2II8jsf=s64",
            "userId": "01171650452258108542"
          }
        },
        "outputId": "f289e6fc-b945-4561-d992-66fed4702f59",
        "colab": {
          "base_uri": "https://localhost:8080/",
          "height": 824
        }
      }
    },
    {
      "cell_type": "markdown",
      "source": [
        "<h2> Functions </h2>\n",
        "<p>A function is a block of organized, reusable code that is used to perform a single, related action. Functions provide better modularity for your application and a high degree of code reusing.</p>\n",
        "\n",
        "<h4> Defining a Function</h4>\n",
        "You can define functions to provide the required functionality. Rules to define a function in Python:\n",
        "<ul>\n",
        "<li>Function blocks begin with the keyword def followed by the function name and parentheses ( ( ) ). </li>\n",
        "\n",
        "<li>Any input parameters or arguments should be placed within these parentheses. You can also define parameters inside these parentheses. </li>\n",
        "\n",
        "<li>The first statement of a function can be an optional statement - the documentation string of the function or docstring.</li>\n",
        "\n",
        "<li>The code block within every function starts with a colon (:) and is indented.</li>\n",
        "\n",
        "<li>The statement return [expression] exits a function, optionally passing back an expression to the caller. A return statement with no arguments is the same as return None.</li>\n",
        "</ul>\n",
        "\n",
        "`````\n",
        "def functionname( parameters ):\n",
        "   \"function_docstring\"\n",
        "   function_suite\n",
        "   return [expression]\n",
        "`````\n"
      ],
      "metadata": {
        "id": "4ULA0WrU_lS7"
      }
    },
    {
      "cell_type": "code",
      "source": [
        "# Defining a function\n",
        "def printme():\n",
        "    print (\"Print from printme function\\n\\n\")\n",
        "\n",
        "# Calling a function  \n",
        "printme()\n",
        "\n",
        "\n",
        "###########################\n",
        "# Defining a function\n",
        "def Fun2(str):\n",
        "    print (\"Your Str is \\n\", str)\n",
        "\n",
        "# Calling a function  \n",
        "Fun2(\"I'm first call to user defined function!\")\n",
        "Fun2(\"Again second call to the same function\")\n"
      ],
      "outputs": [
        {
          "output_type": "stream",
          "name": "stdout",
          "text": [
            "Print from printme function\n",
            "\n",
            "\n",
            "Your Str is \n",
            " I'm first call to user defined function!\n",
            "Your Str is \n",
            " Again second call to the same function\n"
          ]
        }
      ],
      "execution_count": 10,
      "metadata": {
        "id": "1YAgfkS7BC1s",
        "executionInfo": {
          "status": "ok",
          "timestamp": 1603702141493,
          "user_tz": -180,
          "elapsed": 1091,
          "user": {
            "displayName": "Bushra Alhijawi",
            "photoUrl": "https://lh3.googleusercontent.com/a-/AOh14Gg-ekCitA2mOdvj4QrCnH9vDSmvF18hS2II8jsf=s64",
            "userId": "01171650452258108542"
          }
        },
        "outputId": "121ef3be-a3e2-47e6-bc6b-60a0d4b0ddc2",
        "colab": {
          "base_uri": "https://localhost:8080/",
          "height": 136
        }
      }
    },
    {
      "cell_type": "code",
      "source": [
        "def printArray(arr):\n",
        "  for i in range (0,len(arr)):\n",
        "    if (i % 2) == 0:\n",
        "      print(\"An Even Index = \",i,\" stores \", arr[i])\n",
        "    else:\n",
        "      print(\"An Odd Index = \",i,\" stores \", arr[i])\n",
        "\n",
        "###########################################\n",
        "x = np.array([2, 1, 4, 3, 5])\n",
        "printArray(x)\n"
      ],
      "outputs": [
        {
          "output_type": "stream",
          "name": "stdout",
          "text": [
            "An Even Index =  0  stores  2\n",
            "An Odd Index =  1  stores  1\n",
            "An Even Index =  2  stores  4\n",
            "An Odd Index =  3  stores  3\n",
            "An Even Index =  4  stores  5\n"
          ]
        }
      ],
      "execution_count": 11,
      "metadata": {
        "id": "CMz1gVgfBcft",
        "executionInfo": {
          "status": "ok",
          "timestamp": 1603702192719,
          "user_tz": -180,
          "elapsed": 1101,
          "user": {
            "displayName": "Bushra Alhijawi",
            "photoUrl": "https://lh3.googleusercontent.com/a-/AOh14Gg-ekCitA2mOdvj4QrCnH9vDSmvF18hS2II8jsf=s64",
            "userId": "01171650452258108542"
          }
        },
        "outputId": "44992418-9fd8-4e27-81b0-b6994f6a36e9",
        "colab": {
          "base_uri": "https://localhost:8080/",
          "height": 102
        }
      }
    },
    {
      "cell_type": "code",
      "source": [
        "def printArray(arr):\n",
        "  for i in range (0,len(arr)):\n",
        "    if (i % 2) == 0:\n",
        "      print(\"An Even Index = \",i,\" stores \", arr[i])\n",
        "    else:\n",
        "      print(\"An Odd Index = \",i,\" stores \", arr[i])\n",
        "  Sum = sum(arr)\n",
        "  Mean = Sum/len(arr)\n",
        "  return Sum, Mean\n",
        "\n",
        "###########################################\n",
        "S,M = printArray(x)\n",
        "x,y,z = 3,4,5\n",
        "print(x,y,z)\n",
        "\n",
        "if (S > 50):\n",
        "  print( S , \" > 50\")\n",
        "elif S >2 and S <10:\n",
        "  print(\"2 < \", S, \" < 10\")\n",
        "else:\n",
        "  print (\"\\nSum = \", S)\n",
        "\n",
        "print(\"Mean = \", M)\n",
        "\n"
      ],
      "outputs": [
        {
          "output_type": "stream",
          "name": "stdout",
          "text": [
            "An Even Index =  0  stores  2\n",
            "An Odd Index =  1  stores  1\n",
            "An Even Index =  2  stores  4\n",
            "An Odd Index =  3  stores  3\n",
            "An Even Index =  4  stores  5\n",
            "3 4 5\n",
            "\n",
            "Sum =  15\n",
            "Mean =  3.0\n"
          ]
        }
      ],
      "execution_count": 13,
      "metadata": {
        "id": "FK3LcE1aDKhT",
        "executionInfo": {
          "status": "ok",
          "timestamp": 1603702507658,
          "user_tz": -180,
          "elapsed": 855,
          "user": {
            "displayName": "Bushra Alhijawi",
            "photoUrl": "https://lh3.googleusercontent.com/a-/AOh14Gg-ekCitA2mOdvj4QrCnH9vDSmvF18hS2II8jsf=s64",
            "userId": "01171650452258108542"
          }
        },
        "outputId": "87213bb9-f1b9-4afc-b34a-8121daa06c88",
        "colab": {
          "base_uri": "https://localhost:8080/",
          "height": 170
        }
      }
    }
  ],
  "metadata": {
    "colab": {
      "name": "Lecture_2_PythonReview.ipynb",
      "provenance": [],
      "collapsed_sections": []
    },
    "kernelspec": {
      "display_name": "Python 3",
      "language": "python",
      "name": "python3"
    },
    "language_info": {
      "name": "python",
      "version": "3.8.3",
      "mimetype": "text/x-python",
      "codemirror_mode": {
        "name": "ipython",
        "version": 3
      },
      "pygments_lexer": "ipython3",
      "nbconvert_exporter": "python",
      "file_extension": ".py"
    },
    "nteract": {
      "version": "0.25.1"
    }
  },
  "nbformat": 4,
  "nbformat_minor": 0
}